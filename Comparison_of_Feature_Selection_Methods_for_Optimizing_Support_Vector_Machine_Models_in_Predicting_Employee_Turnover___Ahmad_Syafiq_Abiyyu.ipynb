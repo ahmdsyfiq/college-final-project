{
  "nbformat": 4,
  "nbformat_minor": 0,
  "metadata": {
    "colab": {
      "provenance": [],
      "toc_visible": true
    },
    "kernelspec": {
      "name": "python3",
      "display_name": "Python 3"
    },
    "language_info": {
      "name": "python"
    }
  },
  "cells": [
    {
      "cell_type": "markdown",
      "source": [
        "# Abstract"
      ],
      "metadata": {
        "id": "3PKv5thOpbWL"
      }
    },
    {
      "cell_type": "markdown",
      "source": [
        "Feature selection is one of the processes to reduce the dimensions of data. Dimension reduction aims to improve the performance of machine learning algorithm models. This study shows which feature selection method is the best for improving the performance of the Support Vector Machine (SVM) algorithm. SVM is used to predict employee turnover based on the given datasets. Evaluation matrices such as accuracy, recall, precision, dan f1-score are used to assess the final performance of SVM."
      ],
      "metadata": {
        "id": "EDnBMkBspjv2"
      }
    },
    {
      "cell_type": "markdown",
      "source": [
        "# Dataset"
      ],
      "metadata": {
        "id": "I8SLiizQsIta"
      }
    },
    {
      "cell_type": "markdown",
      "source": [
        "The data used is the original dataset shared by Edward Babushkin's blog. The dataset has a total of 16 features and 1129 different employee data rows of different employees."
      ],
      "metadata": {
        "id": "QAyCkSVWsMzM"
      }
    },
    {
      "cell_type": "markdown",
      "source": [
        "Edward Babushkin's blog: https://edwvb.blogspot.com/2017/10/employee-turnover-how-to-predict-individual-risks-of-quitting.html\n"
      ],
      "metadata": {
        "id": "f6QUw0mXuEmv"
      }
    },
    {
      "cell_type": "markdown",
      "source": [
        "Dataset resource: https://www.kaggle.com/datasets/davinwijaya/employee-turnover"
      ],
      "metadata": {
        "id": "HSSBlR0-uuCV"
      }
    },
    {
      "cell_type": "code",
      "source": [
        "# download dataset\n",
        "!gdown --id 1JfkeWsbRO-DzRWmW1CCEuzDoHGySrTjc"
      ],
      "metadata": {
        "colab": {
          "base_uri": "https://localhost:8080/"
        },
        "id": "8a0ZA0l8x_Lg",
        "outputId": "be0f4d89-4690-47b3-c0a4-80967d9af9b3"
      },
      "execution_count": 1,
      "outputs": [
        {
          "output_type": "stream",
          "name": "stdout",
          "text": [
            "/usr/local/lib/python3.10/dist-packages/gdown/cli.py:121: FutureWarning: Option `--id` was deprecated in version 4.3.1 and will be removed in 5.0. You don't need to pass it anymore to use a file ID.\n",
            "  warnings.warn(\n",
            "Downloading...\n",
            "From: https://drive.google.com/uc?id=1JfkeWsbRO-DzRWmW1CCEuzDoHGySrTjc\n",
            "To: /content/turnover.csv\n",
            "100% 83.2k/83.2k [00:00<00:00, 89.8MB/s]\n"
          ]
        }
      ]
    },
    {
      "cell_type": "markdown",
      "source": [
        "# Methods"
      ],
      "metadata": {
        "id": "3VgY0Z_PuIok"
      }
    },
    {
      "cell_type": "markdown",
      "source": [
        "## Import Libraries"
      ],
      "metadata": {
        "id": "-8JAEbrWvHZe"
      }
    },
    {
      "cell_type": "markdown",
      "source": [
        "This section will show what libraries were used during the development of the program."
      ],
      "metadata": {
        "id": "9PH9QpW2vQJm"
      }
    },
    {
      "cell_type": "code",
      "source": [
        "# basic libraries\n",
        "import numpy as np\n",
        "import pandas as pd"
      ],
      "metadata": {
        "id": "wapjZIWwvWjx"
      },
      "execution_count": 2,
      "outputs": []
    },
    {
      "cell_type": "code",
      "source": [
        "# libraries for data visualization\n",
        "import matplotlib.pyplot as plt\n",
        "import seaborn as sns\n",
        "\n",
        "import warnings"
      ],
      "metadata": {
        "id": "_MTKlQTgv6QJ"
      },
      "execution_count": 3,
      "outputs": []
    },
    {
      "cell_type": "code",
      "source": [
        "# libraries for machine learning models\n",
        "from sklearn.svm import SVC\n",
        "from sklearn.ensemble import RandomForestClassifier"
      ],
      "metadata": {
        "id": "RQROrm80wQbx"
      },
      "execution_count": 4,
      "outputs": []
    },
    {
      "cell_type": "code",
      "source": [
        "# supporting libraries\n",
        "from sklearn.model_selection import train_test_split\n",
        "from sklearn.preprocessing import StandardScaler\n",
        "from sklearn.preprocessing import LabelEncoder"
      ],
      "metadata": {
        "id": "ugXhQcyowowA"
      },
      "execution_count": 5,
      "outputs": []
    },
    {
      "cell_type": "code",
      "source": [
        "# evaluation metrics library\n",
        "from sklearn.metrics import classification_report\n",
        "from sklearn.metrics import accuracy_score"
      ],
      "metadata": {
        "id": "Y_ECf0S3wv_w"
      },
      "execution_count": 6,
      "outputs": []
    },
    {
      "cell_type": "code",
      "source": [
        "# libraries for feature selection\n",
        "%pip install mlxtend --upgrade\n",
        "\n",
        "import mlxtend\n",
        "from mlxtend.feature_selection import SequentialFeatureSelector as SFS"
      ],
      "metadata": {
        "colab": {
          "base_uri": "https://localhost:8080/"
        },
        "id": "2U92TRstxElr",
        "outputId": "7fca9e9b-27b3-4294-9a8c-7a55f3de427c"
      },
      "execution_count": 7,
      "outputs": [
        {
          "output_type": "stream",
          "name": "stdout",
          "text": [
            "Looking in indexes: https://pypi.org/simple, https://us-python.pkg.dev/colab-wheels/public/simple/\n",
            "Requirement already satisfied: mlxtend in /usr/local/lib/python3.10/dist-packages (0.22.0)\n",
            "Requirement already satisfied: scipy>=1.2.1 in /usr/local/lib/python3.10/dist-packages (from mlxtend) (1.10.1)\n",
            "Requirement already satisfied: numpy>=1.16.2 in /usr/local/lib/python3.10/dist-packages (from mlxtend) (1.22.4)\n",
            "Requirement already satisfied: pandas>=0.24.2 in /usr/local/lib/python3.10/dist-packages (from mlxtend) (1.5.3)\n",
            "Requirement already satisfied: scikit-learn>=1.0.2 in /usr/local/lib/python3.10/dist-packages (from mlxtend) (1.2.2)\n",
            "Requirement already satisfied: matplotlib>=3.0.0 in /usr/local/lib/python3.10/dist-packages (from mlxtend) (3.7.1)\n",
            "Requirement already satisfied: joblib>=0.13.2 in /usr/local/lib/python3.10/dist-packages (from mlxtend) (1.2.0)\n",
            "Requirement already satisfied: setuptools in /usr/local/lib/python3.10/dist-packages (from mlxtend) (67.7.2)\n",
            "Requirement already satisfied: contourpy>=1.0.1 in /usr/local/lib/python3.10/dist-packages (from matplotlib>=3.0.0->mlxtend) (1.0.7)\n",
            "Requirement already satisfied: cycler>=0.10 in /usr/local/lib/python3.10/dist-packages (from matplotlib>=3.0.0->mlxtend) (0.11.0)\n",
            "Requirement already satisfied: fonttools>=4.22.0 in /usr/local/lib/python3.10/dist-packages (from matplotlib>=3.0.0->mlxtend) (4.39.3)\n",
            "Requirement already satisfied: kiwisolver>=1.0.1 in /usr/local/lib/python3.10/dist-packages (from matplotlib>=3.0.0->mlxtend) (1.4.4)\n",
            "Requirement already satisfied: packaging>=20.0 in /usr/local/lib/python3.10/dist-packages (from matplotlib>=3.0.0->mlxtend) (23.1)\n",
            "Requirement already satisfied: pillow>=6.2.0 in /usr/local/lib/python3.10/dist-packages (from matplotlib>=3.0.0->mlxtend) (8.4.0)\n",
            "Requirement already satisfied: pyparsing>=2.3.1 in /usr/local/lib/python3.10/dist-packages (from matplotlib>=3.0.0->mlxtend) (3.0.9)\n",
            "Requirement already satisfied: python-dateutil>=2.7 in /usr/local/lib/python3.10/dist-packages (from matplotlib>=3.0.0->mlxtend) (2.8.2)\n",
            "Requirement already satisfied: pytz>=2020.1 in /usr/local/lib/python3.10/dist-packages (from pandas>=0.24.2->mlxtend) (2022.7.1)\n",
            "Requirement already satisfied: threadpoolctl>=2.0.0 in /usr/local/lib/python3.10/dist-packages (from scikit-learn>=1.0.2->mlxtend) (3.1.0)\n",
            "Requirement already satisfied: six>=1.5 in /usr/local/lib/python3.10/dist-packages (from python-dateutil>=2.7->matplotlib>=3.0.0->mlxtend) (1.16.0)\n"
          ]
        }
      ]
    },
    {
      "cell_type": "code",
      "source": [
        "sns.set_theme(style='whitegrid')\n",
        "warnings.filterwarnings('ignore')"
      ],
      "metadata": {
        "id": "3x_TFkbrxori"
      },
      "execution_count": 8,
      "outputs": []
    },
    {
      "cell_type": "markdown",
      "source": [
        "## Data Preprocessing"
      ],
      "metadata": {
        "id": "yeuZRKqYx8kR"
      }
    },
    {
      "cell_type": "markdown",
      "source": [
        "Data preprocessing aims to explore and clean the dataset before it can be used in machine learning models. This section includes dataset exploration, category feature encoding, visualization of data distribution and correlation, and data scaling."
      ],
      "metadata": {
        "id": "VlENMgnqyUiT"
      }
    },
    {
      "cell_type": "markdown",
      "source": [
        "### Data Exploration"
      ],
      "metadata": {
        "id": "0RCH3LT40PQH"
      }
    },
    {
      "cell_type": "markdown",
      "source": [
        "In this section, dataset exploration will display the size of the dataset, comparison of dependent variables, feature exploration, and checking for empty values in the data."
      ],
      "metadata": {
        "id": "k9DL38Oh0hSt"
      }
    },
    {
      "cell_type": "code",
      "source": [
        "# data frame initiation\n",
        "df_EB = pd.read_csv('turnover.csv', encoding=\"ISO-8859-1\")"
      ],
      "metadata": {
        "id": "6oC7Fd3AyHJ2"
      },
      "execution_count": 9,
      "outputs": []
    },
    {
      "cell_type": "code",
      "source": [
        "# top five data sample\n",
        "df_EB.head()"
      ],
      "metadata": {
        "colab": {
          "base_uri": "https://localhost:8080/",
          "height": 270
        },
        "id": "Ww4l21cA1fjB",
        "outputId": "d4c9efe7-c187-436a-9d6b-62f737658b5d"
      },
      "execution_count": 10,
      "outputs": [
        {
          "output_type": "execute_result",
          "data": {
            "text/plain": [
              "        stag  event gender   age         industry  profession      traffic  \\\n",
              "0   7.030801      1      m  35.0            Banks          HR  rabrecNErab   \n",
              "1  22.965092      1      m  33.0            Banks          HR        empjs   \n",
              "2  15.934292      1      f  35.0  PowerGeneration          HR  rabrecNErab   \n",
              "3  15.934292      1      f  35.0  PowerGeneration          HR  rabrecNErab   \n",
              "4   8.410678      1      m  32.0           Retail  Commercial        youjs   \n",
              "\n",
              "  coach head_gender greywage  way  extraversion  independ  selfcontrol  \\\n",
              "0    no           f    white  bus           6.2       4.1          5.7   \n",
              "1    no           m    white  bus           6.2       4.1          5.7   \n",
              "2    no           m    white  bus           6.2       6.2          2.6   \n",
              "3    no           m    white  bus           5.4       7.6          4.9   \n",
              "4   yes           f    white  bus           3.0       4.1          8.0   \n",
              "\n",
              "   anxiety  novator  \n",
              "0      7.1      8.3  \n",
              "1      7.1      8.3  \n",
              "2      4.8      8.3  \n",
              "3      2.5      6.7  \n",
              "4      7.1      3.7  "
            ],
            "text/html": [
              "\n",
              "  <div id=\"df-5e368643-07eb-4b60-a4b3-2d63a322d470\">\n",
              "    <div class=\"colab-df-container\">\n",
              "      <div>\n",
              "<style scoped>\n",
              "    .dataframe tbody tr th:only-of-type {\n",
              "        vertical-align: middle;\n",
              "    }\n",
              "\n",
              "    .dataframe tbody tr th {\n",
              "        vertical-align: top;\n",
              "    }\n",
              "\n",
              "    .dataframe thead th {\n",
              "        text-align: right;\n",
              "    }\n",
              "</style>\n",
              "<table border=\"1\" class=\"dataframe\">\n",
              "  <thead>\n",
              "    <tr style=\"text-align: right;\">\n",
              "      <th></th>\n",
              "      <th>stag</th>\n",
              "      <th>event</th>\n",
              "      <th>gender</th>\n",
              "      <th>age</th>\n",
              "      <th>industry</th>\n",
              "      <th>profession</th>\n",
              "      <th>traffic</th>\n",
              "      <th>coach</th>\n",
              "      <th>head_gender</th>\n",
              "      <th>greywage</th>\n",
              "      <th>way</th>\n",
              "      <th>extraversion</th>\n",
              "      <th>independ</th>\n",
              "      <th>selfcontrol</th>\n",
              "      <th>anxiety</th>\n",
              "      <th>novator</th>\n",
              "    </tr>\n",
              "  </thead>\n",
              "  <tbody>\n",
              "    <tr>\n",
              "      <th>0</th>\n",
              "      <td>7.030801</td>\n",
              "      <td>1</td>\n",
              "      <td>m</td>\n",
              "      <td>35.0</td>\n",
              "      <td>Banks</td>\n",
              "      <td>HR</td>\n",
              "      <td>rabrecNErab</td>\n",
              "      <td>no</td>\n",
              "      <td>f</td>\n",
              "      <td>white</td>\n",
              "      <td>bus</td>\n",
              "      <td>6.2</td>\n",
              "      <td>4.1</td>\n",
              "      <td>5.7</td>\n",
              "      <td>7.1</td>\n",
              "      <td>8.3</td>\n",
              "    </tr>\n",
              "    <tr>\n",
              "      <th>1</th>\n",
              "      <td>22.965092</td>\n",
              "      <td>1</td>\n",
              "      <td>m</td>\n",
              "      <td>33.0</td>\n",
              "      <td>Banks</td>\n",
              "      <td>HR</td>\n",
              "      <td>empjs</td>\n",
              "      <td>no</td>\n",
              "      <td>m</td>\n",
              "      <td>white</td>\n",
              "      <td>bus</td>\n",
              "      <td>6.2</td>\n",
              "      <td>4.1</td>\n",
              "      <td>5.7</td>\n",
              "      <td>7.1</td>\n",
              "      <td>8.3</td>\n",
              "    </tr>\n",
              "    <tr>\n",
              "      <th>2</th>\n",
              "      <td>15.934292</td>\n",
              "      <td>1</td>\n",
              "      <td>f</td>\n",
              "      <td>35.0</td>\n",
              "      <td>PowerGeneration</td>\n",
              "      <td>HR</td>\n",
              "      <td>rabrecNErab</td>\n",
              "      <td>no</td>\n",
              "      <td>m</td>\n",
              "      <td>white</td>\n",
              "      <td>bus</td>\n",
              "      <td>6.2</td>\n",
              "      <td>6.2</td>\n",
              "      <td>2.6</td>\n",
              "      <td>4.8</td>\n",
              "      <td>8.3</td>\n",
              "    </tr>\n",
              "    <tr>\n",
              "      <th>3</th>\n",
              "      <td>15.934292</td>\n",
              "      <td>1</td>\n",
              "      <td>f</td>\n",
              "      <td>35.0</td>\n",
              "      <td>PowerGeneration</td>\n",
              "      <td>HR</td>\n",
              "      <td>rabrecNErab</td>\n",
              "      <td>no</td>\n",
              "      <td>m</td>\n",
              "      <td>white</td>\n",
              "      <td>bus</td>\n",
              "      <td>5.4</td>\n",
              "      <td>7.6</td>\n",
              "      <td>4.9</td>\n",
              "      <td>2.5</td>\n",
              "      <td>6.7</td>\n",
              "    </tr>\n",
              "    <tr>\n",
              "      <th>4</th>\n",
              "      <td>8.410678</td>\n",
              "      <td>1</td>\n",
              "      <td>m</td>\n",
              "      <td>32.0</td>\n",
              "      <td>Retail</td>\n",
              "      <td>Commercial</td>\n",
              "      <td>youjs</td>\n",
              "      <td>yes</td>\n",
              "      <td>f</td>\n",
              "      <td>white</td>\n",
              "      <td>bus</td>\n",
              "      <td>3.0</td>\n",
              "      <td>4.1</td>\n",
              "      <td>8.0</td>\n",
              "      <td>7.1</td>\n",
              "      <td>3.7</td>\n",
              "    </tr>\n",
              "  </tbody>\n",
              "</table>\n",
              "</div>\n",
              "      <button class=\"colab-df-convert\" onclick=\"convertToInteractive('df-5e368643-07eb-4b60-a4b3-2d63a322d470')\"\n",
              "              title=\"Convert this dataframe to an interactive table.\"\n",
              "              style=\"display:none;\">\n",
              "        \n",
              "  <svg xmlns=\"http://www.w3.org/2000/svg\" height=\"24px\"viewBox=\"0 0 24 24\"\n",
              "       width=\"24px\">\n",
              "    <path d=\"M0 0h24v24H0V0z\" fill=\"none\"/>\n",
              "    <path d=\"M18.56 5.44l.94 2.06.94-2.06 2.06-.94-2.06-.94-.94-2.06-.94 2.06-2.06.94zm-11 1L8.5 8.5l.94-2.06 2.06-.94-2.06-.94L8.5 2.5l-.94 2.06-2.06.94zm10 10l.94 2.06.94-2.06 2.06-.94-2.06-.94-.94-2.06-.94 2.06-2.06.94z\"/><path d=\"M17.41 7.96l-1.37-1.37c-.4-.4-.92-.59-1.43-.59-.52 0-1.04.2-1.43.59L10.3 9.45l-7.72 7.72c-.78.78-.78 2.05 0 2.83L4 21.41c.39.39.9.59 1.41.59.51 0 1.02-.2 1.41-.59l7.78-7.78 2.81-2.81c.8-.78.8-2.07 0-2.86zM5.41 20L4 18.59l7.72-7.72 1.47 1.35L5.41 20z\"/>\n",
              "  </svg>\n",
              "      </button>\n",
              "      \n",
              "  <style>\n",
              "    .colab-df-container {\n",
              "      display:flex;\n",
              "      flex-wrap:wrap;\n",
              "      gap: 12px;\n",
              "    }\n",
              "\n",
              "    .colab-df-convert {\n",
              "      background-color: #E8F0FE;\n",
              "      border: none;\n",
              "      border-radius: 50%;\n",
              "      cursor: pointer;\n",
              "      display: none;\n",
              "      fill: #1967D2;\n",
              "      height: 32px;\n",
              "      padding: 0 0 0 0;\n",
              "      width: 32px;\n",
              "    }\n",
              "\n",
              "    .colab-df-convert:hover {\n",
              "      background-color: #E2EBFA;\n",
              "      box-shadow: 0px 1px 2px rgba(60, 64, 67, 0.3), 0px 1px 3px 1px rgba(60, 64, 67, 0.15);\n",
              "      fill: #174EA6;\n",
              "    }\n",
              "\n",
              "    [theme=dark] .colab-df-convert {\n",
              "      background-color: #3B4455;\n",
              "      fill: #D2E3FC;\n",
              "    }\n",
              "\n",
              "    [theme=dark] .colab-df-convert:hover {\n",
              "      background-color: #434B5C;\n",
              "      box-shadow: 0px 1px 3px 1px rgba(0, 0, 0, 0.15);\n",
              "      filter: drop-shadow(0px 1px 2px rgba(0, 0, 0, 0.3));\n",
              "      fill: #FFFFFF;\n",
              "    }\n",
              "  </style>\n",
              "\n",
              "      <script>\n",
              "        const buttonEl =\n",
              "          document.querySelector('#df-5e368643-07eb-4b60-a4b3-2d63a322d470 button.colab-df-convert');\n",
              "        buttonEl.style.display =\n",
              "          google.colab.kernel.accessAllowed ? 'block' : 'none';\n",
              "\n",
              "        async function convertToInteractive(key) {\n",
              "          const element = document.querySelector('#df-5e368643-07eb-4b60-a4b3-2d63a322d470');\n",
              "          const dataTable =\n",
              "            await google.colab.kernel.invokeFunction('convertToInteractive',\n",
              "                                                     [key], {});\n",
              "          if (!dataTable) return;\n",
              "\n",
              "          const docLinkHtml = 'Like what you see? Visit the ' +\n",
              "            '<a target=\"_blank\" href=https://colab.research.google.com/notebooks/data_table.ipynb>data table notebook</a>'\n",
              "            + ' to learn more about interactive tables.';\n",
              "          element.innerHTML = '';\n",
              "          dataTable['output_type'] = 'display_data';\n",
              "          await google.colab.output.renderOutput(dataTable, element);\n",
              "          const docLink = document.createElement('div');\n",
              "          docLink.innerHTML = docLinkHtml;\n",
              "          element.appendChild(docLink);\n",
              "        }\n",
              "      </script>\n",
              "    </div>\n",
              "  </div>\n",
              "  "
            ]
          },
          "metadata": {},
          "execution_count": 10
        }
      ]
    },
    {
      "cell_type": "code",
      "source": [
        "# show the size of dataset\n",
        "df_EB.shape"
      ],
      "metadata": {
        "colab": {
          "base_uri": "https://localhost:8080/"
        },
        "id": "8bJ86VY31wtd",
        "outputId": "63f793f7-244f-4523-ca94-fb2a602f6738"
      },
      "execution_count": 11,
      "outputs": [
        {
          "output_type": "execute_result",
          "data": {
            "text/plain": [
              "(1129, 16)"
            ]
          },
          "metadata": {},
          "execution_count": 11
        }
      ]
    },
    {
      "cell_type": "code",
      "source": [
        "# exploration of the number of employee turnover (dependent variable)\n",
        "df_EB.groupby('event').count().max(axis=1)"
      ],
      "metadata": {
        "colab": {
          "base_uri": "https://localhost:8080/"
        },
        "id": "zGTse0RP122b",
        "outputId": "234ca747-ec4b-4869-a067-53ba9974d2d7"
      },
      "execution_count": 12,
      "outputs": [
        {
          "output_type": "execute_result",
          "data": {
            "text/plain": [
              "event\n",
              "0    558\n",
              "1    571\n",
              "dtype: int64"
            ]
          },
          "metadata": {},
          "execution_count": 12
        }
      ]
    },
    {
      "cell_type": "code",
      "source": [
        "# the number of employee based on job type\n",
        "df_EB.groupby('industry').count().max(axis=1)"
      ],
      "metadata": {
        "colab": {
          "base_uri": "https://localhost:8080/"
        },
        "id": "YgMQwidK2GHw",
        "outputId": "77fc53f6-1002-4c4d-cf04-4a9cc7cb1280"
      },
      "execution_count": 13,
      "outputs": [
        {
          "output_type": "execute_result",
          "data": {
            "text/plain": [
              "industry\n",
              " HoReCa             11\n",
              "Agriculture         15\n",
              "Banks              114\n",
              "Building            41\n",
              "Consult             74\n",
              "IT                 122\n",
              "Mining              24\n",
              "Pharma              20\n",
              "PowerGeneration     38\n",
              "RealEstate          13\n",
              "Retail             289\n",
              "State               55\n",
              "Telecom             36\n",
              "etc                 94\n",
              "manufacture        145\n",
              "transport           38\n",
              "dtype: int64"
            ]
          },
          "metadata": {},
          "execution_count": 13
        }
      ]
    },
    {
      "cell_type": "code",
      "source": [
        "# show information for each features\n",
        "df_EB.info()"
      ],
      "metadata": {
        "colab": {
          "base_uri": "https://localhost:8080/"
        },
        "id": "8abkaQvi2iF9",
        "outputId": "a10601fc-8875-4c03-d4dd-d0bd6717a645"
      },
      "execution_count": 14,
      "outputs": [
        {
          "output_type": "stream",
          "name": "stdout",
          "text": [
            "<class 'pandas.core.frame.DataFrame'>\n",
            "RangeIndex: 1129 entries, 0 to 1128\n",
            "Data columns (total 16 columns):\n",
            " #   Column        Non-Null Count  Dtype  \n",
            "---  ------        --------------  -----  \n",
            " 0   stag          1129 non-null   float64\n",
            " 1   event         1129 non-null   int64  \n",
            " 2   gender        1129 non-null   object \n",
            " 3   age           1129 non-null   float64\n",
            " 4   industry      1129 non-null   object \n",
            " 5   profession    1129 non-null   object \n",
            " 6   traffic       1129 non-null   object \n",
            " 7   coach         1129 non-null   object \n",
            " 8   head_gender   1129 non-null   object \n",
            " 9   greywage      1129 non-null   object \n",
            " 10  way           1129 non-null   object \n",
            " 11  extraversion  1129 non-null   float64\n",
            " 12  independ      1129 non-null   float64\n",
            " 13  selfcontrol   1129 non-null   float64\n",
            " 14  anxiety       1129 non-null   float64\n",
            " 15  novator       1129 non-null   float64\n",
            "dtypes: float64(7), int64(1), object(8)\n",
            "memory usage: 141.2+ KB\n"
          ]
        }
      ]
    },
    {
      "cell_type": "markdown",
      "source": [
        "### Category Feature Encoding"
      ],
      "metadata": {
        "id": "-WWF3T-s2tkH"
      }
    },
    {
      "cell_type": "markdown",
      "source": [
        "This process will change the categorical data type, which is still in the form of string characters, to be converted to numeric using label encoder so each value in the column can be read by the machine learning algorithm."
      ],
      "metadata": {
        "id": "6Y9d-FVb7ryL"
      }
    },
    {
      "cell_type": "markdown",
      "source": [
        "In the dataset, category features includes gender, industry, profession, traffic, coach, head_gender, greywage, and way."
      ],
      "metadata": {
        "id": "vSbviHKt8Q_x"
      }
    },
    {
      "cell_type": "code",
      "source": [
        "# initiates a column with category type\n",
        "cat_column = ['gender','industry','profession','traffic','coach','head_gender','greywage','way']\n",
        "\n",
        "# change the category type column using Label Encoding\n",
        "df_EB[cat_column] = df_EB[cat_column].apply(LabelEncoder().fit_transform)\n",
        "\n",
        "df_EB"
      ],
      "metadata": {
        "colab": {
          "base_uri": "https://localhost:8080/",
          "height": 487
        },
        "id": "U3xaU7_68Lae",
        "outputId": "7c218f75-d556-4a36-af99-301b048ee20f"
      },
      "execution_count": 15,
      "outputs": [
        {
          "output_type": "execute_result",
          "data": {
            "text/plain": [
              "            stag  event  gender   age  industry  profession  traffic  coach  \\\n",
              "0       7.030801      1       1  35.0         2           6        4      1   \n",
              "1      22.965092      1       1  33.0         2           6        2      1   \n",
              "2      15.934292      1       0  35.0         8           6        4      1   \n",
              "3      15.934292      1       0  35.0         8           6        4      1   \n",
              "4       8.410678      1       1  32.0        10           2        7      2   \n",
              "...          ...    ...     ...   ...       ...         ...      ...    ...   \n",
              "1124   10.611910      0       0  41.0         2           6        4      0   \n",
              "1125   10.611910      0       0  41.0         2           6        4      0   \n",
              "1126  118.800821      0       0  34.0        12           0        0      1   \n",
              "1127   49.412731      0       0  51.0         4           6        2      1   \n",
              "1128   24.837782      0       0  29.0        10           6        7      1   \n",
              "\n",
              "      head_gender  greywage  way  extraversion  independ  selfcontrol  \\\n",
              "0               0         1    0           6.2       4.1          5.7   \n",
              "1               1         1    0           6.2       4.1          5.7   \n",
              "2               1         1    0           6.2       6.2          2.6   \n",
              "3               1         1    0           5.4       7.6          4.9   \n",
              "4               0         1    0           3.0       4.1          8.0   \n",
              "...           ...       ...  ...           ...       ...          ...   \n",
              "1124            1         1    0           8.6       3.4          2.6   \n",
              "1125            1         1    0           8.6       3.4          2.6   \n",
              "1126            0         1    0           4.6       5.5          7.2   \n",
              "1127            1         0    0           3.8       7.6          5.7   \n",
              "1128            0         1    1           9.4       1.2          4.1   \n",
              "\n",
              "      anxiety  novator  \n",
              "0         7.1      8.3  \n",
              "1         7.1      8.3  \n",
              "2         4.8      8.3  \n",
              "3         2.5      6.7  \n",
              "4         7.1      3.7  \n",
              "...       ...      ...  \n",
              "1124      4.8      8.3  \n",
              "1125      4.8      8.3  \n",
              "1126      6.3      3.7  \n",
              "1127      6.3      5.2  \n",
              "1128      5.6      6.7  \n",
              "\n",
              "[1129 rows x 16 columns]"
            ],
            "text/html": [
              "\n",
              "  <div id=\"df-43756d91-0d0b-4cb4-a04a-e2bdcf34a5e2\">\n",
              "    <div class=\"colab-df-container\">\n",
              "      <div>\n",
              "<style scoped>\n",
              "    .dataframe tbody tr th:only-of-type {\n",
              "        vertical-align: middle;\n",
              "    }\n",
              "\n",
              "    .dataframe tbody tr th {\n",
              "        vertical-align: top;\n",
              "    }\n",
              "\n",
              "    .dataframe thead th {\n",
              "        text-align: right;\n",
              "    }\n",
              "</style>\n",
              "<table border=\"1\" class=\"dataframe\">\n",
              "  <thead>\n",
              "    <tr style=\"text-align: right;\">\n",
              "      <th></th>\n",
              "      <th>stag</th>\n",
              "      <th>event</th>\n",
              "      <th>gender</th>\n",
              "      <th>age</th>\n",
              "      <th>industry</th>\n",
              "      <th>profession</th>\n",
              "      <th>traffic</th>\n",
              "      <th>coach</th>\n",
              "      <th>head_gender</th>\n",
              "      <th>greywage</th>\n",
              "      <th>way</th>\n",
              "      <th>extraversion</th>\n",
              "      <th>independ</th>\n",
              "      <th>selfcontrol</th>\n",
              "      <th>anxiety</th>\n",
              "      <th>novator</th>\n",
              "    </tr>\n",
              "  </thead>\n",
              "  <tbody>\n",
              "    <tr>\n",
              "      <th>0</th>\n",
              "      <td>7.030801</td>\n",
              "      <td>1</td>\n",
              "      <td>1</td>\n",
              "      <td>35.0</td>\n",
              "      <td>2</td>\n",
              "      <td>6</td>\n",
              "      <td>4</td>\n",
              "      <td>1</td>\n",
              "      <td>0</td>\n",
              "      <td>1</td>\n",
              "      <td>0</td>\n",
              "      <td>6.2</td>\n",
              "      <td>4.1</td>\n",
              "      <td>5.7</td>\n",
              "      <td>7.1</td>\n",
              "      <td>8.3</td>\n",
              "    </tr>\n",
              "    <tr>\n",
              "      <th>1</th>\n",
              "      <td>22.965092</td>\n",
              "      <td>1</td>\n",
              "      <td>1</td>\n",
              "      <td>33.0</td>\n",
              "      <td>2</td>\n",
              "      <td>6</td>\n",
              "      <td>2</td>\n",
              "      <td>1</td>\n",
              "      <td>1</td>\n",
              "      <td>1</td>\n",
              "      <td>0</td>\n",
              "      <td>6.2</td>\n",
              "      <td>4.1</td>\n",
              "      <td>5.7</td>\n",
              "      <td>7.1</td>\n",
              "      <td>8.3</td>\n",
              "    </tr>\n",
              "    <tr>\n",
              "      <th>2</th>\n",
              "      <td>15.934292</td>\n",
              "      <td>1</td>\n",
              "      <td>0</td>\n",
              "      <td>35.0</td>\n",
              "      <td>8</td>\n",
              "      <td>6</td>\n",
              "      <td>4</td>\n",
              "      <td>1</td>\n",
              "      <td>1</td>\n",
              "      <td>1</td>\n",
              "      <td>0</td>\n",
              "      <td>6.2</td>\n",
              "      <td>6.2</td>\n",
              "      <td>2.6</td>\n",
              "      <td>4.8</td>\n",
              "      <td>8.3</td>\n",
              "    </tr>\n",
              "    <tr>\n",
              "      <th>3</th>\n",
              "      <td>15.934292</td>\n",
              "      <td>1</td>\n",
              "      <td>0</td>\n",
              "      <td>35.0</td>\n",
              "      <td>8</td>\n",
              "      <td>6</td>\n",
              "      <td>4</td>\n",
              "      <td>1</td>\n",
              "      <td>1</td>\n",
              "      <td>1</td>\n",
              "      <td>0</td>\n",
              "      <td>5.4</td>\n",
              "      <td>7.6</td>\n",
              "      <td>4.9</td>\n",
              "      <td>2.5</td>\n",
              "      <td>6.7</td>\n",
              "    </tr>\n",
              "    <tr>\n",
              "      <th>4</th>\n",
              "      <td>8.410678</td>\n",
              "      <td>1</td>\n",
              "      <td>1</td>\n",
              "      <td>32.0</td>\n",
              "      <td>10</td>\n",
              "      <td>2</td>\n",
              "      <td>7</td>\n",
              "      <td>2</td>\n",
              "      <td>0</td>\n",
              "      <td>1</td>\n",
              "      <td>0</td>\n",
              "      <td>3.0</td>\n",
              "      <td>4.1</td>\n",
              "      <td>8.0</td>\n",
              "      <td>7.1</td>\n",
              "      <td>3.7</td>\n",
              "    </tr>\n",
              "    <tr>\n",
              "      <th>...</th>\n",
              "      <td>...</td>\n",
              "      <td>...</td>\n",
              "      <td>...</td>\n",
              "      <td>...</td>\n",
              "      <td>...</td>\n",
              "      <td>...</td>\n",
              "      <td>...</td>\n",
              "      <td>...</td>\n",
              "      <td>...</td>\n",
              "      <td>...</td>\n",
              "      <td>...</td>\n",
              "      <td>...</td>\n",
              "      <td>...</td>\n",
              "      <td>...</td>\n",
              "      <td>...</td>\n",
              "      <td>...</td>\n",
              "    </tr>\n",
              "    <tr>\n",
              "      <th>1124</th>\n",
              "      <td>10.611910</td>\n",
              "      <td>0</td>\n",
              "      <td>0</td>\n",
              "      <td>41.0</td>\n",
              "      <td>2</td>\n",
              "      <td>6</td>\n",
              "      <td>4</td>\n",
              "      <td>0</td>\n",
              "      <td>1</td>\n",
              "      <td>1</td>\n",
              "      <td>0</td>\n",
              "      <td>8.6</td>\n",
              "      <td>3.4</td>\n",
              "      <td>2.6</td>\n",
              "      <td>4.8</td>\n",
              "      <td>8.3</td>\n",
              "    </tr>\n",
              "    <tr>\n",
              "      <th>1125</th>\n",
              "      <td>10.611910</td>\n",
              "      <td>0</td>\n",
              "      <td>0</td>\n",
              "      <td>41.0</td>\n",
              "      <td>2</td>\n",
              "      <td>6</td>\n",
              "      <td>4</td>\n",
              "      <td>0</td>\n",
              "      <td>1</td>\n",
              "      <td>1</td>\n",
              "      <td>0</td>\n",
              "      <td>8.6</td>\n",
              "      <td>3.4</td>\n",
              "      <td>2.6</td>\n",
              "      <td>4.8</td>\n",
              "      <td>8.3</td>\n",
              "    </tr>\n",
              "    <tr>\n",
              "      <th>1126</th>\n",
              "      <td>118.800821</td>\n",
              "      <td>0</td>\n",
              "      <td>0</td>\n",
              "      <td>34.0</td>\n",
              "      <td>12</td>\n",
              "      <td>0</td>\n",
              "      <td>0</td>\n",
              "      <td>1</td>\n",
              "      <td>0</td>\n",
              "      <td>1</td>\n",
              "      <td>0</td>\n",
              "      <td>4.6</td>\n",
              "      <td>5.5</td>\n",
              "      <td>7.2</td>\n",
              "      <td>6.3</td>\n",
              "      <td>3.7</td>\n",
              "    </tr>\n",
              "    <tr>\n",
              "      <th>1127</th>\n",
              "      <td>49.412731</td>\n",
              "      <td>0</td>\n",
              "      <td>0</td>\n",
              "      <td>51.0</td>\n",
              "      <td>4</td>\n",
              "      <td>6</td>\n",
              "      <td>2</td>\n",
              "      <td>1</td>\n",
              "      <td>1</td>\n",
              "      <td>0</td>\n",
              "      <td>0</td>\n",
              "      <td>3.8</td>\n",
              "      <td>7.6</td>\n",
              "      <td>5.7</td>\n",
              "      <td>6.3</td>\n",
              "      <td>5.2</td>\n",
              "    </tr>\n",
              "    <tr>\n",
              "      <th>1128</th>\n",
              "      <td>24.837782</td>\n",
              "      <td>0</td>\n",
              "      <td>0</td>\n",
              "      <td>29.0</td>\n",
              "      <td>10</td>\n",
              "      <td>6</td>\n",
              "      <td>7</td>\n",
              "      <td>1</td>\n",
              "      <td>0</td>\n",
              "      <td>1</td>\n",
              "      <td>1</td>\n",
              "      <td>9.4</td>\n",
              "      <td>1.2</td>\n",
              "      <td>4.1</td>\n",
              "      <td>5.6</td>\n",
              "      <td>6.7</td>\n",
              "    </tr>\n",
              "  </tbody>\n",
              "</table>\n",
              "<p>1129 rows × 16 columns</p>\n",
              "</div>\n",
              "      <button class=\"colab-df-convert\" onclick=\"convertToInteractive('df-43756d91-0d0b-4cb4-a04a-e2bdcf34a5e2')\"\n",
              "              title=\"Convert this dataframe to an interactive table.\"\n",
              "              style=\"display:none;\">\n",
              "        \n",
              "  <svg xmlns=\"http://www.w3.org/2000/svg\" height=\"24px\"viewBox=\"0 0 24 24\"\n",
              "       width=\"24px\">\n",
              "    <path d=\"M0 0h24v24H0V0z\" fill=\"none\"/>\n",
              "    <path d=\"M18.56 5.44l.94 2.06.94-2.06 2.06-.94-2.06-.94-.94-2.06-.94 2.06-2.06.94zm-11 1L8.5 8.5l.94-2.06 2.06-.94-2.06-.94L8.5 2.5l-.94 2.06-2.06.94zm10 10l.94 2.06.94-2.06 2.06-.94-2.06-.94-.94-2.06-.94 2.06-2.06.94z\"/><path d=\"M17.41 7.96l-1.37-1.37c-.4-.4-.92-.59-1.43-.59-.52 0-1.04.2-1.43.59L10.3 9.45l-7.72 7.72c-.78.78-.78 2.05 0 2.83L4 21.41c.39.39.9.59 1.41.59.51 0 1.02-.2 1.41-.59l7.78-7.78 2.81-2.81c.8-.78.8-2.07 0-2.86zM5.41 20L4 18.59l7.72-7.72 1.47 1.35L5.41 20z\"/>\n",
              "  </svg>\n",
              "      </button>\n",
              "      \n",
              "  <style>\n",
              "    .colab-df-container {\n",
              "      display:flex;\n",
              "      flex-wrap:wrap;\n",
              "      gap: 12px;\n",
              "    }\n",
              "\n",
              "    .colab-df-convert {\n",
              "      background-color: #E8F0FE;\n",
              "      border: none;\n",
              "      border-radius: 50%;\n",
              "      cursor: pointer;\n",
              "      display: none;\n",
              "      fill: #1967D2;\n",
              "      height: 32px;\n",
              "      padding: 0 0 0 0;\n",
              "      width: 32px;\n",
              "    }\n",
              "\n",
              "    .colab-df-convert:hover {\n",
              "      background-color: #E2EBFA;\n",
              "      box-shadow: 0px 1px 2px rgba(60, 64, 67, 0.3), 0px 1px 3px 1px rgba(60, 64, 67, 0.15);\n",
              "      fill: #174EA6;\n",
              "    }\n",
              "\n",
              "    [theme=dark] .colab-df-convert {\n",
              "      background-color: #3B4455;\n",
              "      fill: #D2E3FC;\n",
              "    }\n",
              "\n",
              "    [theme=dark] .colab-df-convert:hover {\n",
              "      background-color: #434B5C;\n",
              "      box-shadow: 0px 1px 3px 1px rgba(0, 0, 0, 0.15);\n",
              "      filter: drop-shadow(0px 1px 2px rgba(0, 0, 0, 0.3));\n",
              "      fill: #FFFFFF;\n",
              "    }\n",
              "  </style>\n",
              "\n",
              "      <script>\n",
              "        const buttonEl =\n",
              "          document.querySelector('#df-43756d91-0d0b-4cb4-a04a-e2bdcf34a5e2 button.colab-df-convert');\n",
              "        buttonEl.style.display =\n",
              "          google.colab.kernel.accessAllowed ? 'block' : 'none';\n",
              "\n",
              "        async function convertToInteractive(key) {\n",
              "          const element = document.querySelector('#df-43756d91-0d0b-4cb4-a04a-e2bdcf34a5e2');\n",
              "          const dataTable =\n",
              "            await google.colab.kernel.invokeFunction('convertToInteractive',\n",
              "                                                     [key], {});\n",
              "          if (!dataTable) return;\n",
              "\n",
              "          const docLinkHtml = 'Like what you see? Visit the ' +\n",
              "            '<a target=\"_blank\" href=https://colab.research.google.com/notebooks/data_table.ipynb>data table notebook</a>'\n",
              "            + ' to learn more about interactive tables.';\n",
              "          element.innerHTML = '';\n",
              "          dataTable['output_type'] = 'display_data';\n",
              "          await google.colab.output.renderOutput(dataTable, element);\n",
              "          const docLink = document.createElement('div');\n",
              "          docLink.innerHTML = docLinkHtml;\n",
              "          element.appendChild(docLink);\n",
              "        }\n",
              "      </script>\n",
              "    </div>\n",
              "  </div>\n",
              "  "
            ]
          },
          "metadata": {},
          "execution_count": 15
        }
      ]
    },
    {
      "cell_type": "markdown",
      "source": [
        "### Visualization of Data Distribution and Correlation"
      ],
      "metadata": {
        "id": "06glK6d_9LJ8"
      }
    },
    {
      "cell_type": "markdown",
      "source": [
        "This section displays the distribution of data values in each column and calculates the correlation between columns."
      ],
      "metadata": {
        "id": "UC7WJSxG9TQt"
      }
    },
    {
      "cell_type": "code",
      "source": [
        "# show data distribution in each column\n",
        "_ = df_EB.hist(figsize=(17.5, 17.5), bins=20)"
      ],
      "metadata": {
        "colab": {
          "base_uri": "https://localhost:8080/",
          "height": 1000
        },
        "id": "huot4tA49qKH",
        "outputId": "b2a75c03-ac6c-40a0-fb90-f249f51fa616"
      },
      "execution_count": 16,
      "outputs": [
        {
          "output_type": "display_data",
          "data": {
            "text/plain": [
              "<Figure size 1750x1750 with 16 Axes>"
            ],
            "image/png": "[encoded data removed]"
          },
          "metadata": {}
        }
      ]
    },
    {
      "cell_type": "code",
      "source": [
        "plt.figure(figsize=(12.5, 12.5))\n",
        "\n",
        "# display correlation between columns\n",
        "sns.heatmap(df_EB.corr(), square=True, annot=True)"
      ],
      "metadata": {
        "colab": {
          "base_uri": "https://localhost:8080/",
          "height": 1000
        },
        "id": "nyBml9qs9mqa",
        "outputId": "e7786851-8b20-4715-c42a-bc8154b55f16"
      },
      "execution_count": 17,
      "outputs": [
        {
          "output_type": "execute_result",
          "data": {
            "text/plain": [
              "<Axes: >"
            ]
          },
          "metadata": {},
          "execution_count": 17
        },
        {
          "output_type": "display_data",
          "data": {
            "text/plain": [
              "<Figure size 1250x1250 with 2 Axes>"
            ],
            "image/png": "[encoded data removed]"
          },
          "metadata": {}
        }
      ]
    },
    {
      "cell_type": "markdown",
      "source": [
        "### Data Scaling"
      ],
      "metadata": {
        "id": "WJSoCL_TE9pm"
      }
    },
    {
      "cell_type": "markdown",
      "source": [
        "This data scaling stage serves to equalize the value range of each column. The scaling technique used in this study is the Standard Scaller scaling technique."
      ],
      "metadata": {
        "id": "PU5zWn5_FCDK"
      }
    },
    {
      "cell_type": "code",
      "source": [
        "# take all of the independent variable in dataset\n",
        "X = df_EB.drop(['event'], axis=1)\n",
        "\n",
        "# take the dependent variable in dataset\n",
        "y = df_EB['event']"
      ],
      "metadata": {
        "id": "QCR7bYEAFY1Y"
      },
      "execution_count": 18,
      "outputs": []
    },
    {
      "cell_type": "code",
      "source": [
        "# stores the name of all column in independent variable\n",
        "cols = X.columns"
      ],
      "metadata": {
        "id": "v7biRRZHF5MU"
      },
      "execution_count": 19,
      "outputs": []
    },
    {
      "cell_type": "code",
      "source": [
        "# initiate the library for scaling\n",
        "scaler = StandardScaler()\n",
        "\n",
        "# scaling data for independent variable\n",
        "X = scaler.fit_transform(X)"
      ],
      "metadata": {
        "id": "GLyqFZGBGXrc"
      },
      "execution_count": 20,
      "outputs": []
    },
    {
      "cell_type": "code",
      "source": [
        "# convert into data frame\n",
        "X = pd.DataFrame(X, columns=[cols])\n",
        "\n",
        "X.describe()"
      ],
      "metadata": {
        "colab": {
          "base_uri": "https://localhost:8080/",
          "height": 451
        },
        "id": "AljxqWf0HHuJ",
        "outputId": "2391bae3-611f-4166-8be3-643ce4d0a847"
      },
      "execution_count": 21,
      "outputs": [
        {
          "output_type": "execute_result",
          "data": {
            "text/plain": [
              "               stag        gender           age      industry    profession  \\\n",
              "count  1.129000e+03  1.129000e+03  1.129000e+03  1.129000e+03  1.129000e+03   \n",
              "mean  -1.195776e-16 -6.293558e-17  2.391552e-16  1.069905e-16  1.132840e-16   \n",
              "std    1.000443e+00  1.000443e+00  1.000443e+00  1.000443e+00  1.000443e+00   \n",
              "min   -1.063136e+00 -5.688268e-01 -1.868565e+00 -2.036053e+00 -2.610645e+00   \n",
              "25%   -7.305599e-01 -5.688268e-01 -7.245717e-01 -8.543218e-01 -2.231049e-01   \n",
              "50%   -3.603879e-01 -5.688268e-01 -1.525750e-01  3.274098e-01 -2.231049e-01   \n",
              "75%    4.310477e-01 -5.688268e-01  7.054199e-01  8.001024e-01 -2.231049e-01   \n",
              "max    4.190608e+00  1.758004e+00  3.851401e+00  1.509141e+00  2.960281e+00   \n",
              "\n",
              "            traffic         coach   head_gender      greywage           way  \\\n",
              "count  1.129000e+03  1.129000e+03  1.129000e+03  1.129000e+03  1.129000e+03   \n",
              "mean   1.762196e-16  7.866948e-17 -7.552270e-17  1.762196e-16 -1.219377e-16   \n",
              "std    1.000443e+00  1.000443e+00  1.000443e+00  1.000443e+00  1.000443e+00   \n",
              "min   -1.855951e+00 -1.380739e+00 -1.035162e+00 -2.808872e+00 -7.400678e-01   \n",
              "25%   -9.677066e-01 -1.380739e+00 -1.035162e+00  3.560148e-01 -7.400678e-01   \n",
              "50%   -7.946209e-02  2.653586e-01  9.660327e-01  3.560148e-01 -7.400678e-01   \n",
              "75%    1.252905e+00  2.653586e-01  9.660327e-01  3.560148e-01  7.387580e-01   \n",
              "max    1.252905e+00  1.911456e+00  9.660327e-01  3.560148e-01  2.217584e+00   \n",
              "\n",
              "       extraversion      independ   selfcontrol       anxiety       novator  \n",
              "count  1.129000e+03  1.129000e+03  1.129000e+03  1.129000e+03  1.129000e+03  \n",
              "mean   1.172175e-16 -1.321647e-16 -9.597676e-17 -4.090813e-17 -2.863569e-16  \n",
              "std    1.000443e+00  1.000443e+00  1.000443e+00  1.000443e+00  1.000443e+00  \n",
              "min   -2.481274e+00 -2.630180e+00 -2.322756e+00 -2.321230e+00 -2.563944e+00  \n",
              "25%   -5.361864e-01 -8.093903e-01 -7.564856e-01 -5.066868e-01 -7.774535e-01  \n",
              "50%   -1.039447e-01  1.290197e-02  5.191217e-02 -3.841757e-02  6.324809e-02  \n",
              "75%    7.605385e-01  8.351942e-01  8.097851e-01  8.395873e-01  8.514058e-01  \n",
              "max    2.381445e+00  2.655984e+00  2.224481e+00  2.537063e+00  2.165002e+00  "
            ],
            "text/html": [
              "\n",
              "  <div id=\"df-1128f553-244d-4205-b7dc-e1ee03dea96f\">\n",
              "    <div class=\"colab-df-container\">\n",
              "      <div>\n",
              "<style scoped>\n",
              "    .dataframe tbody tr th:only-of-type {\n",
              "        vertical-align: middle;\n",
              "    }\n",
              "\n",
              "    .dataframe tbody tr th {\n",
              "        vertical-align: top;\n",
              "    }\n",
              "\n",
              "    .dataframe thead tr th {\n",
              "        text-align: left;\n",
              "    }\n",
              "</style>\n",
              "<table border=\"1\" class=\"dataframe\">\n",
              "  <thead>\n",
              "    <tr>\n",
              "      <th></th>\n",
              "      <th>stag</th>\n",
              "      <th>gender</th>\n",
              "      <th>age</th>\n",
              "      <th>industry</th>\n",
              "      <th>profession</th>\n",
              "      <th>traffic</th>\n",
              "      <th>coach</th>\n",
              "      <th>head_gender</th>\n",
              "      <th>greywage</th>\n",
              "      <th>way</th>\n",
              "      <th>extraversion</th>\n",
              "      <th>independ</th>\n",
              "      <th>selfcontrol</th>\n",
              "      <th>anxiety</th>\n",
              "      <th>novator</th>\n",
              "    </tr>\n",
              "  </thead>\n",
              "  <tbody>\n",
              "    <tr>\n",
              "      <th>count</th>\n",
              "      <td>1.129000e+03</td>\n",
              "      <td>1.129000e+03</td>\n",
              "      <td>1.129000e+03</td>\n",
              "      <td>1.129000e+03</td>\n",
              "      <td>1.129000e+03</td>\n",
              "      <td>1.129000e+03</td>\n",
              "      <td>1.129000e+03</td>\n",
              "      <td>1.129000e+03</td>\n",
              "      <td>1.129000e+03</td>\n",
              "      <td>1.129000e+03</td>\n",
              "      <td>1.129000e+03</td>\n",
              "      <td>1.129000e+03</td>\n",
              "      <td>1.129000e+03</td>\n",
              "      <td>1.129000e+03</td>\n",
              "      <td>1.129000e+03</td>\n",
              "    </tr>\n",
              "    <tr>\n",
              "      <th>mean</th>\n",
              "      <td>-1.195776e-16</td>\n",
              "      <td>-6.293558e-17</td>\n",
              "      <td>2.391552e-16</td>\n",
              "      <td>1.069905e-16</td>\n",
              "      <td>1.132840e-16</td>\n",
              "      <td>1.762196e-16</td>\n",
              "      <td>7.866948e-17</td>\n",
              "      <td>-7.552270e-17</td>\n",
              "      <td>1.762196e-16</td>\n",
              "      <td>-1.219377e-16</td>\n",
              "      <td>1.172175e-16</td>\n",
              "      <td>-1.321647e-16</td>\n",
              "      <td>-9.597676e-17</td>\n",
              "      <td>-4.090813e-17</td>\n",
              "      <td>-2.863569e-16</td>\n",
              "    </tr>\n",
              "    <tr>\n",
              "      <th>std</th>\n",
              "      <td>1.000443e+00</td>\n",
              "      <td>1.000443e+00</td>\n",
              "      <td>1.000443e+00</td>\n",
              "      <td>1.000443e+00</td>\n",
              "      <td>1.000443e+00</td>\n",
              "      <td>1.000443e+00</td>\n",
              "      <td>1.000443e+00</td>\n",
              "      <td>1.000443e+00</td>\n",
              "      <td>1.000443e+00</td>\n",
              "      <td>1.000443e+00</td>\n",
              "      <td>1.000443e+00</td>\n",
              "      <td>1.000443e+00</td>\n",
              "      <td>1.000443e+00</td>\n",
              "      <td>1.000443e+00</td>\n",
              "      <td>1.000443e+00</td>\n",
              "    </tr>\n",
              "    <tr>\n",
              "      <th>min</th>\n",
              "      <td>-1.063136e+00</td>\n",
              "      <td>-5.688268e-01</td>\n",
              "      <td>-1.868565e+00</td>\n",
              "      <td>-2.036053e+00</td>\n",
              "      <td>-2.610645e+00</td>\n",
              "      <td>-1.855951e+00</td>\n",
              "      <td>-1.380739e+00</td>\n",
              "      <td>-1.035162e+00</td>\n",
              "      <td>-2.808872e+00</td>\n",
              "      <td>-7.400678e-01</td>\n",
              "      <td>-2.481274e+00</td>\n",
              "      <td>-2.630180e+00</td>\n",
              "      <td>-2.322756e+00</td>\n",
              "      <td>-2.321230e+00</td>\n",
              "      <td>-2.563944e+00</td>\n",
              "    </tr>\n",
              "    <tr>\n",
              "      <th>25%</th>\n",
              "      <td>-7.305599e-01</td>\n",
              "      <td>-5.688268e-01</td>\n",
              "      <td>-7.245717e-01</td>\n",
              "      <td>-8.543218e-01</td>\n",
              "      <td>-2.231049e-01</td>\n",
              "      <td>-9.677066e-01</td>\n",
              "      <td>-1.380739e+00</td>\n",
              "      <td>-1.035162e+00</td>\n",
              "      <td>3.560148e-01</td>\n",
              "      <td>-7.400678e-01</td>\n",
              "      <td>-5.361864e-01</td>\n",
              "      <td>-8.093903e-01</td>\n",
              "      <td>-7.564856e-01</td>\n",
              "      <td>-5.066868e-01</td>\n",
              "      <td>-7.774535e-01</td>\n",
              "    </tr>\n",
              "    <tr>\n",
              "      <th>50%</th>\n",
              "      <td>-3.603879e-01</td>\n",
              "      <td>-5.688268e-01</td>\n",
              "      <td>-1.525750e-01</td>\n",
              "      <td>3.274098e-01</td>\n",
              "      <td>-2.231049e-01</td>\n",
              "      <td>-7.946209e-02</td>\n",
              "      <td>2.653586e-01</td>\n",
              "      <td>9.660327e-01</td>\n",
              "      <td>3.560148e-01</td>\n",
              "      <td>-7.400678e-01</td>\n",
              "      <td>-1.039447e-01</td>\n",
              "      <td>1.290197e-02</td>\n",
              "      <td>5.191217e-02</td>\n",
              "      <td>-3.841757e-02</td>\n",
              "      <td>6.324809e-02</td>\n",
              "    </tr>\n",
              "    <tr>\n",
              "      <th>75%</th>\n",
              "      <td>4.310477e-01</td>\n",
              "      <td>-5.688268e-01</td>\n",
              "      <td>7.054199e-01</td>\n",
              "      <td>8.001024e-01</td>\n",
              "      <td>-2.231049e-01</td>\n",
              "      <td>1.252905e+00</td>\n",
              "      <td>2.653586e-01</td>\n",
              "      <td>9.660327e-01</td>\n",
              "      <td>3.560148e-01</td>\n",
              "      <td>7.387580e-01</td>\n",
              "      <td>7.605385e-01</td>\n",
              "      <td>8.351942e-01</td>\n",
              "      <td>8.097851e-01</td>\n",
              "      <td>8.395873e-01</td>\n",
              "      <td>8.514058e-01</td>\n",
              "    </tr>\n",
              "    <tr>\n",
              "      <th>max</th>\n",
              "      <td>4.190608e+00</td>\n",
              "      <td>1.758004e+00</td>\n",
              "      <td>3.851401e+00</td>\n",
              "      <td>1.509141e+00</td>\n",
              "      <td>2.960281e+00</td>\n",
              "      <td>1.252905e+00</td>\n",
              "      <td>1.911456e+00</td>\n",
              "      <td>9.660327e-01</td>\n",
              "      <td>3.560148e-01</td>\n",
              "      <td>2.217584e+00</td>\n",
              "      <td>2.381445e+00</td>\n",
              "      <td>2.655984e+00</td>\n",
              "      <td>2.224481e+00</td>\n",
              "      <td>2.537063e+00</td>\n",
              "      <td>2.165002e+00</td>\n",
              "    </tr>\n",
              "  </tbody>\n",
              "</table>\n",
              "</div>\n",
              "      <button class=\"colab-df-convert\" onclick=\"convertToInteractive('df-1128f553-244d-4205-b7dc-e1ee03dea96f')\"\n",
              "              title=\"Convert this dataframe to an interactive table.\"\n",
              "              style=\"display:none;\">\n",
              "        \n",
              "  <svg xmlns=\"http://www.w3.org/2000/svg\" height=\"24px\"viewBox=\"0 0 24 24\"\n",
              "       width=\"24px\">\n",
              "    <path d=\"M0 0h24v24H0V0z\" fill=\"none\"/>\n",
              "    <path d=\"M18.56 5.44l.94 2.06.94-2.06 2.06-.94-2.06-.94-.94-2.06-.94 2.06-2.06.94zm-11 1L8.5 8.5l.94-2.06 2.06-.94-2.06-.94L8.5 2.5l-.94 2.06-2.06.94zm10 10l.94 2.06.94-2.06 2.06-.94-2.06-.94-.94-2.06-.94 2.06-2.06.94z\"/><path d=\"M17.41 7.96l-1.37-1.37c-.4-.4-.92-.59-1.43-.59-.52 0-1.04.2-1.43.59L10.3 9.45l-7.72 7.72c-.78.78-.78 2.05 0 2.83L4 21.41c.39.39.9.59 1.41.59.51 0 1.02-.2 1.41-.59l7.78-7.78 2.81-2.81c.8-.78.8-2.07 0-2.86zM5.41 20L4 18.59l7.72-7.72 1.47 1.35L5.41 20z\"/>\n",
              "  </svg>\n",
              "      </button>\n",
              "      \n",
              "  <style>\n",
              "    .colab-df-container {\n",
              "      display:flex;\n",
              "      flex-wrap:wrap;\n",
              "      gap: 12px;\n",
              "    }\n",
              "\n",
              "    .colab-df-convert {\n",
              "      background-color: #E8F0FE;\n",
              "      border: none;\n",
              "      border-radius: 50%;\n",
              "      cursor: pointer;\n",
              "      display: none;\n",
              "      fill: #1967D2;\n",
              "      height: 32px;\n",
              "      padding: 0 0 0 0;\n",
              "      width: 32px;\n",
              "    }\n",
              "\n",
              "    .colab-df-convert:hover {\n",
              "      background-color: #E2EBFA;\n",
              "      box-shadow: 0px 1px 2px rgba(60, 64, 67, 0.3), 0px 1px 3px 1px rgba(60, 64, 67, 0.15);\n",
              "      fill: #174EA6;\n",
              "    }\n",
              "\n",
              "    [theme=dark] .colab-df-convert {\n",
              "      background-color: #3B4455;\n",
              "      fill: #D2E3FC;\n",
              "    }\n",
              "\n",
              "    [theme=dark] .colab-df-convert:hover {\n",
              "      background-color: #434B5C;\n",
              "      box-shadow: 0px 1px 3px 1px rgba(0, 0, 0, 0.15);\n",
              "      filter: drop-shadow(0px 1px 2px rgba(0, 0, 0, 0.3));\n",
              "      fill: #FFFFFF;\n",
              "    }\n",
              "  </style>\n",
              "\n",
              "      <script>\n",
              "        const buttonEl =\n",
              "          document.querySelector('#df-1128f553-244d-4205-b7dc-e1ee03dea96f button.colab-df-convert');\n",
              "        buttonEl.style.display =\n",
              "          google.colab.kernel.accessAllowed ? 'block' : 'none';\n",
              "\n",
              "        async function convertToInteractive(key) {\n",
              "          const element = document.querySelector('#df-1128f553-244d-4205-b7dc-e1ee03dea96f');\n",
              "          const dataTable =\n",
              "            await google.colab.kernel.invokeFunction('convertToInteractive',\n",
              "                                                     [key], {});\n",
              "          if (!dataTable) return;\n",
              "\n",
              "          const docLinkHtml = 'Like what you see? Visit the ' +\n",
              "            '<a target=\"_blank\" href=https://colab.research.google.com/notebooks/data_table.ipynb>data table notebook</a>'\n",
              "            + ' to learn more about interactive tables.';\n",
              "          element.innerHTML = '';\n",
              "          dataTable['output_type'] = 'display_data';\n",
              "          await google.colab.output.renderOutput(dataTable, element);\n",
              "          const docLink = document.createElement('div');\n",
              "          docLink.innerHTML = docLinkHtml;\n",
              "          element.appendChild(docLink);\n",
              "        }\n",
              "      </script>\n",
              "    </div>\n",
              "  </div>\n",
              "  "
            ]
          },
          "metadata": {},
          "execution_count": 21
        }
      ]
    },
    {
      "cell_type": "code",
      "source": [
        "# returns the scaling result into the dataset\n",
        "df_EB[cols] = X\n",
        "df_EB['event'] = y\n",
        "\n",
        "df_EB"
      ],
      "metadata": {
        "colab": {
          "base_uri": "https://localhost:8080/",
          "height": 487
        },
        "id": "JN9f126HHWrA",
        "outputId": "5badd05e-b836-4940-f9eb-df7b9a328871"
      },
      "execution_count": 22,
      "outputs": [
        {
          "output_type": "execute_result",
          "data": {
            "text/plain": [
              "          stag  event    gender       age  industry  profession   traffic  \\\n",
              "0    -0.868410      1  1.758004  0.562421 -1.563361   -0.223105 -0.079462   \n",
              "1    -0.400875      1  1.758004  0.276422 -1.563361   -0.223105 -0.967707   \n",
              "2    -0.607169      1 -0.568827  0.562421 -0.145283   -0.223105 -0.079462   \n",
              "3    -0.607169      1 -0.568827  0.562421 -0.145283   -0.223105 -0.079462   \n",
              "4    -0.827923      1  1.758004  0.133423  0.327410   -1.814798  1.252905   \n",
              "...        ...    ...       ...       ...       ...         ...       ...   \n",
              "1124 -0.763336      0 -0.568827  1.420416 -1.563361   -0.223105 -0.079462   \n",
              "1125 -0.763336      0 -0.568827  1.420416 -1.563361   -0.223105 -0.079462   \n",
              "1126  2.411083      0 -0.568827  0.419422  0.800102   -2.610645 -1.855951   \n",
              "1127  0.375136      0 -0.568827  2.850407 -1.090668   -0.223105 -0.967707   \n",
              "1128 -0.345928      0 -0.568827 -0.295574  0.327410   -0.223105  1.252905   \n",
              "\n",
              "         coach  head_gender  greywage       way  extraversion  independ  \\\n",
              "0     0.265359    -1.035162  0.356015 -0.740068      0.328297 -0.809390   \n",
              "1     0.265359     0.966033  0.356015 -0.740068      0.328297 -0.809390   \n",
              "2     0.265359     0.966033  0.356015 -0.740068      0.328297  0.424048   \n",
              "3     0.265359     0.966033  0.356015 -0.740068     -0.103945  1.246340   \n",
              "4     1.911456    -1.035162  0.356015 -0.740068     -1.400670 -0.809390   \n",
              "...        ...          ...       ...       ...           ...       ...   \n",
              "1124 -1.380739     0.966033  0.356015 -0.740068      1.625022 -1.220536   \n",
              "1125 -1.380739     0.966033  0.356015 -0.740068      1.625022 -1.220536   \n",
              "1126  0.265359    -1.035162  0.356015 -0.740068     -0.536186  0.012902   \n",
              "1127  0.265359     0.966033 -2.808872 -0.740068     -0.968428  1.246340   \n",
              "1128  0.265359    -1.035162  0.356015  0.738758      2.057263 -2.512710   \n",
              "\n",
              "      selfcontrol   anxiety   novator  \n",
              "0        0.051912  0.839587  1.271757  \n",
              "1        0.051912  0.839587  1.271757  \n",
              "2       -1.514359 -0.506687  1.271757  \n",
              "3       -0.352287 -1.852961  0.431055  \n",
              "4        1.213984  0.839587 -1.145260  \n",
              "...           ...       ...       ...  \n",
              "1124    -1.514359 -0.506687  1.271757  \n",
              "1125    -1.514359 -0.506687  1.271757  \n",
              "1126     0.809785  0.371318 -1.145260  \n",
              "1127     0.051912  0.371318 -0.357103  \n",
              "1128    -0.756486 -0.038418  0.431055  \n",
              "\n",
              "[1129 rows x 16 columns]"
            ],
            "text/html": [
              "\n",
              "  <div id=\"df-72a249d7-0903-4677-bd36-e131404bd7c4\">\n",
              "    <div class=\"colab-df-container\">\n",
              "      <div>\n",
              "<style scoped>\n",
              "    .dataframe tbody tr th:only-of-type {\n",
              "        vertical-align: middle;\n",
              "    }\n",
              "\n",
              "    .dataframe tbody tr th {\n",
              "        vertical-align: top;\n",
              "    }\n",
              "\n",
              "    .dataframe thead th {\n",
              "        text-align: right;\n",
              "    }\n",
              "</style>\n",
              "<table border=\"1\" class=\"dataframe\">\n",
              "  <thead>\n",
              "    <tr style=\"text-align: right;\">\n",
              "      <th></th>\n",
              "      <th>stag</th>\n",
              "      <th>event</th>\n",
              "      <th>gender</th>\n",
              "      <th>age</th>\n",
              "      <th>industry</th>\n",
              "      <th>profession</th>\n",
              "      <th>traffic</th>\n",
              "      <th>coach</th>\n",
              "      <th>head_gender</th>\n",
              "      <th>greywage</th>\n",
              "      <th>way</th>\n",
              "      <th>extraversion</th>\n",
              "      <th>independ</th>\n",
              "      <th>selfcontrol</th>\n",
              "      <th>anxiety</th>\n",
              "      <th>novator</th>\n",
              "    </tr>\n",
              "  </thead>\n",
              "  <tbody>\n",
              "    <tr>\n",
              "      <th>0</th>\n",
              "      <td>-0.868410</td>\n",
              "      <td>1</td>\n",
              "      <td>1.758004</td>\n",
              "      <td>0.562421</td>\n",
              "      <td>-1.563361</td>\n",
              "      <td>-0.223105</td>\n",
              "      <td>-0.079462</td>\n",
              "      <td>0.265359</td>\n",
              "      <td>-1.035162</td>\n",
              "      <td>0.356015</td>\n",
              "      <td>-0.740068</td>\n",
              "      <td>0.328297</td>\n",
              "      <td>-0.809390</td>\n",
              "      <td>0.051912</td>\n",
              "      <td>0.839587</td>\n",
              "      <td>1.271757</td>\n",
              "    </tr>\n",
              "    <tr>\n",
              "      <th>1</th>\n",
              "      <td>-0.400875</td>\n",
              "      <td>1</td>\n",
              "      <td>1.758004</td>\n",
              "      <td>0.276422</td>\n",
              "      <td>-1.563361</td>\n",
              "      <td>-0.223105</td>\n",
              "      <td>-0.967707</td>\n",
              "      <td>0.265359</td>\n",
              "      <td>0.966033</td>\n",
              "      <td>0.356015</td>\n",
              "      <td>-0.740068</td>\n",
              "      <td>0.328297</td>\n",
              "      <td>-0.809390</td>\n",
              "      <td>0.051912</td>\n",
              "      <td>0.839587</td>\n",
              "      <td>1.271757</td>\n",
              "    </tr>\n",
              "    <tr>\n",
              "      <th>2</th>\n",
              "      <td>-0.607169</td>\n",
              "      <td>1</td>\n",
              "      <td>-0.568827</td>\n",
              "      <td>0.562421</td>\n",
              "      <td>-0.145283</td>\n",
              "      <td>-0.223105</td>\n",
              "      <td>-0.079462</td>\n",
              "      <td>0.265359</td>\n",
              "      <td>0.966033</td>\n",
              "      <td>0.356015</td>\n",
              "      <td>-0.740068</td>\n",
              "      <td>0.328297</td>\n",
              "      <td>0.424048</td>\n",
              "      <td>-1.514359</td>\n",
              "      <td>-0.506687</td>\n",
              "      <td>1.271757</td>\n",
              "    </tr>\n",
              "    <tr>\n",
              "      <th>3</th>\n",
              "      <td>-0.607169</td>\n",
              "      <td>1</td>\n",
              "      <td>-0.568827</td>\n",
              "      <td>0.562421</td>\n",
              "      <td>-0.145283</td>\n",
              "      <td>-0.223105</td>\n",
              "      <td>-0.079462</td>\n",
              "      <td>0.265359</td>\n",
              "      <td>0.966033</td>\n",
              "      <td>0.356015</td>\n",
              "      <td>-0.740068</td>\n",
              "      <td>-0.103945</td>\n",
              "      <td>1.246340</td>\n",
              "      <td>-0.352287</td>\n",
              "      <td>-1.852961</td>\n",
              "      <td>0.431055</td>\n",
              "    </tr>\n",
              "    <tr>\n",
              "      <th>4</th>\n",
              "      <td>-0.827923</td>\n",
              "      <td>1</td>\n",
              "      <td>1.758004</td>\n",
              "      <td>0.133423</td>\n",
              "      <td>0.327410</td>\n",
              "      <td>-1.814798</td>\n",
              "      <td>1.252905</td>\n",
              "      <td>1.911456</td>\n",
              "      <td>-1.035162</td>\n",
              "      <td>0.356015</td>\n",
              "      <td>-0.740068</td>\n",
              "      <td>-1.400670</td>\n",
              "      <td>-0.809390</td>\n",
              "      <td>1.213984</td>\n",
              "      <td>0.839587</td>\n",
              "      <td>-1.145260</td>\n",
              "    </tr>\n",
              "    <tr>\n",
              "      <th>...</th>\n",
              "      <td>...</td>\n",
              "      <td>...</td>\n",
              "      <td>...</td>\n",
              "      <td>...</td>\n",
              "      <td>...</td>\n",
              "      <td>...</td>\n",
              "      <td>...</td>\n",
              "      <td>...</td>\n",
              "      <td>...</td>\n",
              "      <td>...</td>\n",
              "      <td>...</td>\n",
              "      <td>...</td>\n",
              "      <td>...</td>\n",
              "      <td>...</td>\n",
              "      <td>...</td>\n",
              "      <td>...</td>\n",
              "    </tr>\n",
              "    <tr>\n",
              "      <th>1124</th>\n",
              "      <td>-0.763336</td>\n",
              "      <td>0</td>\n",
              "      <td>-0.568827</td>\n",
              "      <td>1.420416</td>\n",
              "      <td>-1.563361</td>\n",
              "      <td>-0.223105</td>\n",
              "      <td>-0.079462</td>\n",
              "      <td>-1.380739</td>\n",
              "      <td>0.966033</td>\n",
              "      <td>0.356015</td>\n",
              "      <td>-0.740068</td>\n",
              "      <td>1.625022</td>\n",
              "      <td>-1.220536</td>\n",
              "      <td>-1.514359</td>\n",
              "      <td>-0.506687</td>\n",
              "      <td>1.271757</td>\n",
              "    </tr>\n",
              "    <tr>\n",
              "      <th>1125</th>\n",
              "      <td>-0.763336</td>\n",
              "      <td>0</td>\n",
              "      <td>-0.568827</td>\n",
              "      <td>1.420416</td>\n",
              "      <td>-1.563361</td>\n",
              "      <td>-0.223105</td>\n",
              "      <td>-0.079462</td>\n",
              "      <td>-1.380739</td>\n",
              "      <td>0.966033</td>\n",
              "      <td>0.356015</td>\n",
              "      <td>-0.740068</td>\n",
              "      <td>1.625022</td>\n",
              "      <td>-1.220536</td>\n",
              "      <td>-1.514359</td>\n",
              "      <td>-0.506687</td>\n",
              "      <td>1.271757</td>\n",
              "    </tr>\n",
              "    <tr>\n",
              "      <th>1126</th>\n",
              "      <td>2.411083</td>\n",
              "      <td>0</td>\n",
              "      <td>-0.568827</td>\n",
              "      <td>0.419422</td>\n",
              "      <td>0.800102</td>\n",
              "      <td>-2.610645</td>\n",
              "      <td>-1.855951</td>\n",
              "      <td>0.265359</td>\n",
              "      <td>-1.035162</td>\n",
              "      <td>0.356015</td>\n",
              "      <td>-0.740068</td>\n",
              "      <td>-0.536186</td>\n",
              "      <td>0.012902</td>\n",
              "      <td>0.809785</td>\n",
              "      <td>0.371318</td>\n",
              "      <td>-1.145260</td>\n",
              "    </tr>\n",
              "    <tr>\n",
              "      <th>1127</th>\n",
              "      <td>0.375136</td>\n",
              "      <td>0</td>\n",
              "      <td>-0.568827</td>\n",
              "      <td>2.850407</td>\n",
              "      <td>-1.090668</td>\n",
              "      <td>-0.223105</td>\n",
              "      <td>-0.967707</td>\n",
              "      <td>0.265359</td>\n",
              "      <td>0.966033</td>\n",
              "      <td>-2.808872</td>\n",
              "      <td>-0.740068</td>\n",
              "      <td>-0.968428</td>\n",
              "      <td>1.246340</td>\n",
              "      <td>0.051912</td>\n",
              "      <td>0.371318</td>\n",
              "      <td>-0.357103</td>\n",
              "    </tr>\n",
              "    <tr>\n",
              "      <th>1128</th>\n",
              "      <td>-0.345928</td>\n",
              "      <td>0</td>\n",
              "      <td>-0.568827</td>\n",
              "      <td>-0.295574</td>\n",
              "      <td>0.327410</td>\n",
              "      <td>-0.223105</td>\n",
              "      <td>1.252905</td>\n",
              "      <td>0.265359</td>\n",
              "      <td>-1.035162</td>\n",
              "      <td>0.356015</td>\n",
              "      <td>0.738758</td>\n",
              "      <td>2.057263</td>\n",
              "      <td>-2.512710</td>\n",
              "      <td>-0.756486</td>\n",
              "      <td>-0.038418</td>\n",
              "      <td>0.431055</td>\n",
              "    </tr>\n",
              "  </tbody>\n",
              "</table>\n",
              "<p>1129 rows × 16 columns</p>\n",
              "</div>\n",
              "      <button class=\"colab-df-convert\" onclick=\"convertToInteractive('df-72a249d7-0903-4677-bd36-e131404bd7c4')\"\n",
              "              title=\"Convert this dataframe to an interactive table.\"\n",
              "              style=\"display:none;\">\n",
              "        \n",
              "  <svg xmlns=\"http://www.w3.org/2000/svg\" height=\"24px\"viewBox=\"0 0 24 24\"\n",
              "       width=\"24px\">\n",
              "    <path d=\"M0 0h24v24H0V0z\" fill=\"none\"/>\n",
              "    <path d=\"M18.56 5.44l.94 2.06.94-2.06 2.06-.94-2.06-.94-.94-2.06-.94 2.06-2.06.94zm-11 1L8.5 8.5l.94-2.06 2.06-.94-2.06-.94L8.5 2.5l-.94 2.06-2.06.94zm10 10l.94 2.06.94-2.06 2.06-.94-2.06-.94-.94-2.06-.94 2.06-2.06.94z\"/><path d=\"M17.41 7.96l-1.37-1.37c-.4-.4-.92-.59-1.43-.59-.52 0-1.04.2-1.43.59L10.3 9.45l-7.72 7.72c-.78.78-.78 2.05 0 2.83L4 21.41c.39.39.9.59 1.41.59.51 0 1.02-.2 1.41-.59l7.78-7.78 2.81-2.81c.8-.78.8-2.07 0-2.86zM5.41 20L4 18.59l7.72-7.72 1.47 1.35L5.41 20z\"/>\n",
              "  </svg>\n",
              "      </button>\n",
              "      \n",
              "  <style>\n",
              "    .colab-df-container {\n",
              "      display:flex;\n",
              "      flex-wrap:wrap;\n",
              "      gap: 12px;\n",
              "    }\n",
              "\n",
              "    .colab-df-convert {\n",
              "      background-color: #E8F0FE;\n",
              "      border: none;\n",
              "      border-radius: 50%;\n",
              "      cursor: pointer;\n",
              "      display: none;\n",
              "      fill: #1967D2;\n",
              "      height: 32px;\n",
              "      padding: 0 0 0 0;\n",
              "      width: 32px;\n",
              "    }\n",
              "\n",
              "    .colab-df-convert:hover {\n",
              "      background-color: #E2EBFA;\n",
              "      box-shadow: 0px 1px 2px rgba(60, 64, 67, 0.3), 0px 1px 3px 1px rgba(60, 64, 67, 0.15);\n",
              "      fill: #174EA6;\n",
              "    }\n",
              "\n",
              "    [theme=dark] .colab-df-convert {\n",
              "      background-color: #3B4455;\n",
              "      fill: #D2E3FC;\n",
              "    }\n",
              "\n",
              "    [theme=dark] .colab-df-convert:hover {\n",
              "      background-color: #434B5C;\n",
              "      box-shadow: 0px 1px 3px 1px rgba(0, 0, 0, 0.15);\n",
              "      filter: drop-shadow(0px 1px 2px rgba(0, 0, 0, 0.3));\n",
              "      fill: #FFFFFF;\n",
              "    }\n",
              "  </style>\n",
              "\n",
              "      <script>\n",
              "        const buttonEl =\n",
              "          document.querySelector('#df-72a249d7-0903-4677-bd36-e131404bd7c4 button.colab-df-convert');\n",
              "        buttonEl.style.display =\n",
              "          google.colab.kernel.accessAllowed ? 'block' : 'none';\n",
              "\n",
              "        async function convertToInteractive(key) {\n",
              "          const element = document.querySelector('#df-72a249d7-0903-4677-bd36-e131404bd7c4');\n",
              "          const dataTable =\n",
              "            await google.colab.kernel.invokeFunction('convertToInteractive',\n",
              "                                                     [key], {});\n",
              "          if (!dataTable) return;\n",
              "\n",
              "          const docLinkHtml = 'Like what you see? Visit the ' +\n",
              "            '<a target=\"_blank\" href=https://colab.research.google.com/notebooks/data_table.ipynb>data table notebook</a>'\n",
              "            + ' to learn more about interactive tables.';\n",
              "          element.innerHTML = '';\n",
              "          dataTable['output_type'] = 'display_data';\n",
              "          await google.colab.output.renderOutput(dataTable, element);\n",
              "          const docLink = document.createElement('div');\n",
              "          docLink.innerHTML = docLinkHtml;\n",
              "          element.appendChild(docLink);\n",
              "        }\n",
              "      </script>\n",
              "    </div>\n",
              "  </div>\n",
              "  "
            ]
          },
          "metadata": {},
          "execution_count": 22
        }
      ]
    },
    {
      "cell_type": "markdown",
      "source": [
        "## Feture Selection"
      ],
      "metadata": {
        "id": "XU3RHsP0Hkwv"
      }
    },
    {
      "cell_type": "markdown",
      "source": [
        "At this stage, the dataset will be divided into several categories. The first category is the dataset without using feature selection. The next category is a dataset that has been processed by feature selection."
      ],
      "metadata": {
        "id": "j9osw1sIHm6T"
      }
    },
    {
      "cell_type": "markdown",
      "source": [
        "The feature selection methods used are filter method, wrapper method, and embedded method. method, and embedded method."
      ],
      "metadata": {
        "id": "50CuiBjDId2v"
      }
    },
    {
      "cell_type": "code",
      "source": [
        "# divide the dataset into four categories\n",
        "df_norm = df_EB.copy()          # dataset without feature selection\n",
        "df_filt = df_EB.copy()          # dataset using filter method\n",
        "df_wrap = df_EB.copy()          # dataset using wrapper method\n",
        "df_embd = df_EB.copy()          # dataset using embedded method"
      ],
      "metadata": {
        "id": "zHVFVWi5H-Bf"
      },
      "execution_count": 23,
      "outputs": []
    },
    {
      "cell_type": "markdown",
      "source": [
        "### Filter Method"
      ],
      "metadata": {
        "id": "abmHSe2DJJHh"
      }
    },
    {
      "cell_type": "markdown",
      "source": [
        "Filter methods are methods for selecting features by sorting the level of feature relationships with class labels in the dataset."
      ],
      "metadata": {
        "id": "JWH1I08cJLW8"
      }
    },
    {
      "cell_type": "code",
      "source": [
        "# take all correlation score for each feature\n",
        "corr_value = df_EB.corr().unstack().sort_values(ascending=False)\n",
        "\n",
        "# convert into data frame\n",
        "corr_value = pd.DataFrame(corr_value).reset_index()\n",
        "\n",
        "# change the columns name\n",
        "corr_value.columns = ['col1','col2','value correlation']\n",
        "\n",
        "# change the correlation value into its absolute form\n",
        "corr_value['value correlation'] = corr_value['value correlation'].abs()\n",
        "\n",
        "# sort based on correlation value\n",
        "corr_value.sort_values\n",
        "\n",
        "corr_value"
      ],
      "metadata": {
        "colab": {
          "base_uri": "https://localhost:8080/",
          "height": 423
        },
        "id": "hKkNe86JJbsq",
        "outputId": "6f093561-1f42-4ed4-fc08-93c1aec4cad6"
      },
      "execution_count": 24,
      "outputs": [
        {
          "output_type": "execute_result",
          "data": {
            "text/plain": [
              "             col1          col2  value correlation\n",
              "0            stag          stag           1.000000\n",
              "1           event         event           1.000000\n",
              "2         anxiety       anxiety           1.000000\n",
              "3     selfcontrol   selfcontrol           1.000000\n",
              "4        independ      independ           1.000000\n",
              "..            ...           ...                ...\n",
              "251      independ       anxiety           0.427209\n",
              "252   selfcontrol  extraversion           0.538039\n",
              "253  extraversion   selfcontrol           0.538039\n",
              "254       novator   selfcontrol           0.565972\n",
              "255   selfcontrol       novator           0.565972\n",
              "\n",
              "[256 rows x 3 columns]"
            ],
            "text/html": [
              "\n",
              "  <div id=\"df-97993ce1-5fd9-455c-8c9b-592599c985e6\">\n",
              "    <div class=\"colab-df-container\">\n",
              "      <div>\n",
              "<style scoped>\n",
              "    .dataframe tbody tr th:only-of-type {\n",
              "        vertical-align: middle;\n",
              "    }\n",
              "\n",
              "    .dataframe tbody tr th {\n",
              "        vertical-align: top;\n",
              "    }\n",
              "\n",
              "    .dataframe thead th {\n",
              "        text-align: right;\n",
              "    }\n",
              "</style>\n",
              "<table border=\"1\" class=\"dataframe\">\n",
              "  <thead>\n",
              "    <tr style=\"text-align: right;\">\n",
              "      <th></th>\n",
              "      <th>col1</th>\n",
              "      <th>col2</th>\n",
              "      <th>value correlation</th>\n",
              "    </tr>\n",
              "  </thead>\n",
              "  <tbody>\n",
              "    <tr>\n",
              "      <th>0</th>\n",
              "      <td>stag</td>\n",
              "      <td>stag</td>\n",
              "      <td>1.000000</td>\n",
              "    </tr>\n",
              "    <tr>\n",
              "      <th>1</th>\n",
              "      <td>event</td>\n",
              "      <td>event</td>\n",
              "      <td>1.000000</td>\n",
              "    </tr>\n",
              "    <tr>\n",
              "      <th>2</th>\n",
              "      <td>anxiety</td>\n",
              "      <td>anxiety</td>\n",
              "      <td>1.000000</td>\n",
              "    </tr>\n",
              "    <tr>\n",
              "      <th>3</th>\n",
              "      <td>selfcontrol</td>\n",
              "      <td>selfcontrol</td>\n",
              "      <td>1.000000</td>\n",
              "    </tr>\n",
              "    <tr>\n",
              "      <th>4</th>\n",
              "      <td>independ</td>\n",
              "      <td>independ</td>\n",
              "      <td>1.000000</td>\n",
              "    </tr>\n",
              "    <tr>\n",
              "      <th>...</th>\n",
              "      <td>...</td>\n",
              "      <td>...</td>\n",
              "      <td>...</td>\n",
              "    </tr>\n",
              "    <tr>\n",
              "      <th>251</th>\n",
              "      <td>independ</td>\n",
              "      <td>anxiety</td>\n",
              "      <td>0.427209</td>\n",
              "    </tr>\n",
              "    <tr>\n",
              "      <th>252</th>\n",
              "      <td>selfcontrol</td>\n",
              "      <td>extraversion</td>\n",
              "      <td>0.538039</td>\n",
              "    </tr>\n",
              "    <tr>\n",
              "      <th>253</th>\n",
              "      <td>extraversion</td>\n",
              "      <td>selfcontrol</td>\n",
              "      <td>0.538039</td>\n",
              "    </tr>\n",
              "    <tr>\n",
              "      <th>254</th>\n",
              "      <td>novator</td>\n",
              "      <td>selfcontrol</td>\n",
              "      <td>0.565972</td>\n",
              "    </tr>\n",
              "    <tr>\n",
              "      <th>255</th>\n",
              "      <td>selfcontrol</td>\n",
              "      <td>novator</td>\n",
              "      <td>0.565972</td>\n",
              "    </tr>\n",
              "  </tbody>\n",
              "</table>\n",
              "<p>256 rows × 3 columns</p>\n",
              "</div>\n",
              "      <button class=\"colab-df-convert\" onclick=\"convertToInteractive('df-97993ce1-5fd9-455c-8c9b-592599c985e6')\"\n",
              "              title=\"Convert this dataframe to an interactive table.\"\n",
              "              style=\"display:none;\">\n",
              "        \n",
              "  <svg xmlns=\"http://www.w3.org/2000/svg\" height=\"24px\"viewBox=\"0 0 24 24\"\n",
              "       width=\"24px\">\n",
              "    <path d=\"M0 0h24v24H0V0z\" fill=\"none\"/>\n",
              "    <path d=\"M18.56 5.44l.94 2.06.94-2.06 2.06-.94-2.06-.94-.94-2.06-.94 2.06-2.06.94zm-11 1L8.5 8.5l.94-2.06 2.06-.94-2.06-.94L8.5 2.5l-.94 2.06-2.06.94zm10 10l.94 2.06.94-2.06 2.06-.94-2.06-.94-.94-2.06-.94 2.06-2.06.94z\"/><path d=\"M17.41 7.96l-1.37-1.37c-.4-.4-.92-.59-1.43-.59-.52 0-1.04.2-1.43.59L10.3 9.45l-7.72 7.72c-.78.78-.78 2.05 0 2.83L4 21.41c.39.39.9.59 1.41.59.51 0 1.02-.2 1.41-.59l7.78-7.78 2.81-2.81c.8-.78.8-2.07 0-2.86zM5.41 20L4 18.59l7.72-7.72 1.47 1.35L5.41 20z\"/>\n",
              "  </svg>\n",
              "      </button>\n",
              "      \n",
              "  <style>\n",
              "    .colab-df-container {\n",
              "      display:flex;\n",
              "      flex-wrap:wrap;\n",
              "      gap: 12px;\n",
              "    }\n",
              "\n",
              "    .colab-df-convert {\n",
              "      background-color: #E8F0FE;\n",
              "      border: none;\n",
              "      border-radius: 50%;\n",
              "      cursor: pointer;\n",
              "      display: none;\n",
              "      fill: #1967D2;\n",
              "      height: 32px;\n",
              "      padding: 0 0 0 0;\n",
              "      width: 32px;\n",
              "    }\n",
              "\n",
              "    .colab-df-convert:hover {\n",
              "      background-color: #E2EBFA;\n",
              "      box-shadow: 0px 1px 2px rgba(60, 64, 67, 0.3), 0px 1px 3px 1px rgba(60, 64, 67, 0.15);\n",
              "      fill: #174EA6;\n",
              "    }\n",
              "\n",
              "    [theme=dark] .colab-df-convert {\n",
              "      background-color: #3B4455;\n",
              "      fill: #D2E3FC;\n",
              "    }\n",
              "\n",
              "    [theme=dark] .colab-df-convert:hover {\n",
              "      background-color: #434B5C;\n",
              "      box-shadow: 0px 1px 3px 1px rgba(0, 0, 0, 0.15);\n",
              "      filter: drop-shadow(0px 1px 2px rgba(0, 0, 0, 0.3));\n",
              "      fill: #FFFFFF;\n",
              "    }\n",
              "  </style>\n",
              "\n",
              "      <script>\n",
              "        const buttonEl =\n",
              "          document.querySelector('#df-97993ce1-5fd9-455c-8c9b-592599c985e6 button.colab-df-convert');\n",
              "        buttonEl.style.display =\n",
              "          google.colab.kernel.accessAllowed ? 'block' : 'none';\n",
              "\n",
              "        async function convertToInteractive(key) {\n",
              "          const element = document.querySelector('#df-97993ce1-5fd9-455c-8c9b-592599c985e6');\n",
              "          const dataTable =\n",
              "            await google.colab.kernel.invokeFunction('convertToInteractive',\n",
              "                                                     [key], {});\n",
              "          if (!dataTable) return;\n",
              "\n",
              "          const docLinkHtml = 'Like what you see? Visit the ' +\n",
              "            '<a target=\"_blank\" href=https://colab.research.google.com/notebooks/data_table.ipynb>data table notebook</a>'\n",
              "            + ' to learn more about interactive tables.';\n",
              "          element.innerHTML = '';\n",
              "          dataTable['output_type'] = 'display_data';\n",
              "          await google.colab.output.renderOutput(dataTable, element);\n",
              "          const docLink = document.createElement('div');\n",
              "          docLink.innerHTML = docLinkHtml;\n",
              "          element.appendChild(docLink);\n",
              "        }\n",
              "      </script>\n",
              "    </div>\n",
              "  </div>\n",
              "  "
            ]
          },
          "metadata": {},
          "execution_count": 24
        }
      ]
    },
    {
      "cell_type": "code",
      "source": [
        "# selecting the independent variable value correlation\n",
        "corr_target = corr_value.query(\"col1 == 'event' & col2 != 'event'\")\n",
        "\n",
        "# sort based on correlation value\n",
        "corr_target.sort_values(by=['value correlation'], ascending=False)"
      ],
      "metadata": {
        "colab": {
          "base_uri": "https://localhost:8080/",
          "height": 519
        },
        "id": "aIOicRwBLBy3",
        "outputId": "0b6b759e-c19e-407d-a4ab-272b482f2649"
      },
      "execution_count": 25,
      "outputs": [
        {
          "output_type": "execute_result",
          "data": {
            "text/plain": [
              "      col1          col2  value correlation\n",
              "216  event           way           0.067470\n",
              "215  event      industry           0.064898\n",
              "56   event         coach           0.064296\n",
              "212  event       anxiety           0.063232\n",
              "71   event      independ           0.051864\n",
              "196  event      greywage           0.049166\n",
              "195  event           age           0.048751\n",
              "192  event          stag           0.048361\n",
              "80   event   head_gender           0.041259\n",
              "185  event   selfcontrol           0.040040\n",
              "90   event    profession           0.033031\n",
              "164  event        gender           0.018917\n",
              "113  event  extraversion           0.015458\n",
              "157  event       traffic           0.015078\n",
              "135  event       novator           0.006825"
            ],
            "text/html": [
              "\n",
              "  <div id=\"df-32d3ff75-fc10-4f1a-a50e-e5d5f65c0dfd\">\n",
              "    <div class=\"colab-df-container\">\n",
              "      <div>\n",
              "<style scoped>\n",
              "    .dataframe tbody tr th:only-of-type {\n",
              "        vertical-align: middle;\n",
              "    }\n",
              "\n",
              "    .dataframe tbody tr th {\n",
              "        vertical-align: top;\n",
              "    }\n",
              "\n",
              "    .dataframe thead th {\n",
              "        text-align: right;\n",
              "    }\n",
              "</style>\n",
              "<table border=\"1\" class=\"dataframe\">\n",
              "  <thead>\n",
              "    <tr style=\"text-align: right;\">\n",
              "      <th></th>\n",
              "      <th>col1</th>\n",
              "      <th>col2</th>\n",
              "      <th>value correlation</th>\n",
              "    </tr>\n",
              "  </thead>\n",
              "  <tbody>\n",
              "    <tr>\n",
              "      <th>216</th>\n",
              "      <td>event</td>\n",
              "      <td>way</td>\n",
              "      <td>0.067470</td>\n",
              "    </tr>\n",
              "    <tr>\n",
              "      <th>215</th>\n",
              "      <td>event</td>\n",
              "      <td>industry</td>\n",
              "      <td>0.064898</td>\n",
              "    </tr>\n",
              "    <tr>\n",
              "      <th>56</th>\n",
              "      <td>event</td>\n",
              "      <td>coach</td>\n",
              "      <td>0.064296</td>\n",
              "    </tr>\n",
              "    <tr>\n",
              "      <th>212</th>\n",
              "      <td>event</td>\n",
              "      <td>anxiety</td>\n",
              "      <td>0.063232</td>\n",
              "    </tr>\n",
              "    <tr>\n",
              "      <th>71</th>\n",
              "      <td>event</td>\n",
              "      <td>independ</td>\n",
              "      <td>0.051864</td>\n",
              "    </tr>\n",
              "    <tr>\n",
              "      <th>196</th>\n",
              "      <td>event</td>\n",
              "      <td>greywage</td>\n",
              "      <td>0.049166</td>\n",
              "    </tr>\n",
              "    <tr>\n",
              "      <th>195</th>\n",
              "      <td>event</td>\n",
              "      <td>age</td>\n",
              "      <td>0.048751</td>\n",
              "    </tr>\n",
              "    <tr>\n",
              "      <th>192</th>\n",
              "      <td>event</td>\n",
              "      <td>stag</td>\n",
              "      <td>0.048361</td>\n",
              "    </tr>\n",
              "    <tr>\n",
              "      <th>80</th>\n",
              "      <td>event</td>\n",
              "      <td>head_gender</td>\n",
              "      <td>0.041259</td>\n",
              "    </tr>\n",
              "    <tr>\n",
              "      <th>185</th>\n",
              "      <td>event</td>\n",
              "      <td>selfcontrol</td>\n",
              "      <td>0.040040</td>\n",
              "    </tr>\n",
              "    <tr>\n",
              "      <th>90</th>\n",
              "      <td>event</td>\n",
              "      <td>profession</td>\n",
              "      <td>0.033031</td>\n",
              "    </tr>\n",
              "    <tr>\n",
              "      <th>164</th>\n",
              "      <td>event</td>\n",
              "      <td>gender</td>\n",
              "      <td>0.018917</td>\n",
              "    </tr>\n",
              "    <tr>\n",
              "      <th>113</th>\n",
              "      <td>event</td>\n",
              "      <td>extraversion</td>\n",
              "      <td>0.015458</td>\n",
              "    </tr>\n",
              "    <tr>\n",
              "      <th>157</th>\n",
              "      <td>event</td>\n",
              "      <td>traffic</td>\n",
              "      <td>0.015078</td>\n",
              "    </tr>\n",
              "    <tr>\n",
              "      <th>135</th>\n",
              "      <td>event</td>\n",
              "      <td>novator</td>\n",
              "      <td>0.006825</td>\n",
              "    </tr>\n",
              "  </tbody>\n",
              "</table>\n",
              "</div>\n",
              "      <button class=\"colab-df-convert\" onclick=\"convertToInteractive('df-32d3ff75-fc10-4f1a-a50e-e5d5f65c0dfd')\"\n",
              "              title=\"Convert this dataframe to an interactive table.\"\n",
              "              style=\"display:none;\">\n",
              "        \n",
              "  <svg xmlns=\"http://www.w3.org/2000/svg\" height=\"24px\"viewBox=\"0 0 24 24\"\n",
              "       width=\"24px\">\n",
              "    <path d=\"M0 0h24v24H0V0z\" fill=\"none\"/>\n",
              "    <path d=\"M18.56 5.44l.94 2.06.94-2.06 2.06-.94-2.06-.94-.94-2.06-.94 2.06-2.06.94zm-11 1L8.5 8.5l.94-2.06 2.06-.94-2.06-.94L8.5 2.5l-.94 2.06-2.06.94zm10 10l.94 2.06.94-2.06 2.06-.94-2.06-.94-.94-2.06-.94 2.06-2.06.94z\"/><path d=\"M17.41 7.96l-1.37-1.37c-.4-.4-.92-.59-1.43-.59-.52 0-1.04.2-1.43.59L10.3 9.45l-7.72 7.72c-.78.78-.78 2.05 0 2.83L4 21.41c.39.39.9.59 1.41.59.51 0 1.02-.2 1.41-.59l7.78-7.78 2.81-2.81c.8-.78.8-2.07 0-2.86zM5.41 20L4 18.59l7.72-7.72 1.47 1.35L5.41 20z\"/>\n",
              "  </svg>\n",
              "      </button>\n",
              "      \n",
              "  <style>\n",
              "    .colab-df-container {\n",
              "      display:flex;\n",
              "      flex-wrap:wrap;\n",
              "      gap: 12px;\n",
              "    }\n",
              "\n",
              "    .colab-df-convert {\n",
              "      background-color: #E8F0FE;\n",
              "      border: none;\n",
              "      border-radius: 50%;\n",
              "      cursor: pointer;\n",
              "      display: none;\n",
              "      fill: #1967D2;\n",
              "      height: 32px;\n",
              "      padding: 0 0 0 0;\n",
              "      width: 32px;\n",
              "    }\n",
              "\n",
              "    .colab-df-convert:hover {\n",
              "      background-color: #E2EBFA;\n",
              "      box-shadow: 0px 1px 2px rgba(60, 64, 67, 0.3), 0px 1px 3px 1px rgba(60, 64, 67, 0.15);\n",
              "      fill: #174EA6;\n",
              "    }\n",
              "\n",
              "    [theme=dark] .colab-df-convert {\n",
              "      background-color: #3B4455;\n",
              "      fill: #D2E3FC;\n",
              "    }\n",
              "\n",
              "    [theme=dark] .colab-df-convert:hover {\n",
              "      background-color: #434B5C;\n",
              "      box-shadow: 0px 1px 3px 1px rgba(0, 0, 0, 0.15);\n",
              "      filter: drop-shadow(0px 1px 2px rgba(0, 0, 0, 0.3));\n",
              "      fill: #FFFFFF;\n",
              "    }\n",
              "  </style>\n",
              "\n",
              "      <script>\n",
              "        const buttonEl =\n",
              "          document.querySelector('#df-32d3ff75-fc10-4f1a-a50e-e5d5f65c0dfd button.colab-df-convert');\n",
              "        buttonEl.style.display =\n",
              "          google.colab.kernel.accessAllowed ? 'block' : 'none';\n",
              "\n",
              "        async function convertToInteractive(key) {\n",
              "          const element = document.querySelector('#df-32d3ff75-fc10-4f1a-a50e-e5d5f65c0dfd');\n",
              "          const dataTable =\n",
              "            await google.colab.kernel.invokeFunction('convertToInteractive',\n",
              "                                                     [key], {});\n",
              "          if (!dataTable) return;\n",
              "\n",
              "          const docLinkHtml = 'Like what you see? Visit the ' +\n",
              "            '<a target=\"_blank\" href=https://colab.research.google.com/notebooks/data_table.ipynb>data table notebook</a>'\n",
              "            + ' to learn more about interactive tables.';\n",
              "          element.innerHTML = '';\n",
              "          dataTable['output_type'] = 'display_data';\n",
              "          await google.colab.output.renderOutput(dataTable, element);\n",
              "          const docLink = document.createElement('div');\n",
              "          docLink.innerHTML = docLinkHtml;\n",
              "          element.appendChild(docLink);\n",
              "        }\n",
              "      </script>\n",
              "    </div>\n",
              "  </div>\n",
              "  "
            ]
          },
          "metadata": {},
          "execution_count": 25
        }
      ]
    },
    {
      "cell_type": "code",
      "source": [
        "# filtering the feature by specific value\n",
        "select_column = corr_target['col2'].loc[corr_value['value correlation'] > 0.05]\n",
        "\n",
        "select_column"
      ],
      "metadata": {
        "colab": {
          "base_uri": "https://localhost:8080/"
        },
        "id": "B_kFmWpcL3vZ",
        "outputId": "7c8f1828-ad7f-483e-9b84-36e1b860585b"
      },
      "execution_count": 26,
      "outputs": [
        {
          "output_type": "execute_result",
          "data": {
            "text/plain": [
              "56        coach\n",
              "71     independ\n",
              "212     anxiety\n",
              "215    industry\n",
              "216         way\n",
              "Name: col2, dtype: object"
            ]
          },
          "metadata": {},
          "execution_count": 26
        }
      ]
    },
    {
      "cell_type": "code",
      "source": [
        "# apply to the data frame\n",
        "df_filt = df_filt[select_column]\n",
        "\n",
        "df_filt.head()"
      ],
      "metadata": {
        "colab": {
          "base_uri": "https://localhost:8080/",
          "height": 206
        },
        "id": "JKzSd3UTMHSu",
        "outputId": "13eb1d7b-be3e-4ca1-de68-06d8e1aab34e"
      },
      "execution_count": 27,
      "outputs": [
        {
          "output_type": "execute_result",
          "data": {
            "text/plain": [
              "      coach  independ   anxiety  industry       way\n",
              "0  0.265359 -0.809390  0.839587 -1.563361 -0.740068\n",
              "1  0.265359 -0.809390  0.839587 -1.563361 -0.740068\n",
              "2  0.265359  0.424048 -0.506687 -0.145283 -0.740068\n",
              "3  0.265359  1.246340 -1.852961 -0.145283 -0.740068\n",
              "4  1.911456 -0.809390  0.839587  0.327410 -0.740068"
            ],
            "text/html": [
              "\n",
              "  <div id=\"df-c597ed26-409b-40ae-9df0-4aa175950b1c\">\n",
              "    <div class=\"colab-df-container\">\n",
              "      <div>\n",
              "<style scoped>\n",
              "    .dataframe tbody tr th:only-of-type {\n",
              "        vertical-align: middle;\n",
              "    }\n",
              "\n",
              "    .dataframe tbody tr th {\n",
              "        vertical-align: top;\n",
              "    }\n",
              "\n",
              "    .dataframe thead th {\n",
              "        text-align: right;\n",
              "    }\n",
              "</style>\n",
              "<table border=\"1\" class=\"dataframe\">\n",
              "  <thead>\n",
              "    <tr style=\"text-align: right;\">\n",
              "      <th></th>\n",
              "      <th>coach</th>\n",
              "      <th>independ</th>\n",
              "      <th>anxiety</th>\n",
              "      <th>industry</th>\n",
              "      <th>way</th>\n",
              "    </tr>\n",
              "  </thead>\n",
              "  <tbody>\n",
              "    <tr>\n",
              "      <th>0</th>\n",
              "      <td>0.265359</td>\n",
              "      <td>-0.809390</td>\n",
              "      <td>0.839587</td>\n",
              "      <td>-1.563361</td>\n",
              "      <td>-0.740068</td>\n",
              "    </tr>\n",
              "    <tr>\n",
              "      <th>1</th>\n",
              "      <td>0.265359</td>\n",
              "      <td>-0.809390</td>\n",
              "      <td>0.839587</td>\n",
              "      <td>-1.563361</td>\n",
              "      <td>-0.740068</td>\n",
              "    </tr>\n",
              "    <tr>\n",
              "      <th>2</th>\n",
              "      <td>0.265359</td>\n",
              "      <td>0.424048</td>\n",
              "      <td>-0.506687</td>\n",
              "      <td>-0.145283</td>\n",
              "      <td>-0.740068</td>\n",
              "    </tr>\n",
              "    <tr>\n",
              "      <th>3</th>\n",
              "      <td>0.265359</td>\n",
              "      <td>1.246340</td>\n",
              "      <td>-1.852961</td>\n",
              "      <td>-0.145283</td>\n",
              "      <td>-0.740068</td>\n",
              "    </tr>\n",
              "    <tr>\n",
              "      <th>4</th>\n",
              "      <td>1.911456</td>\n",
              "      <td>-0.809390</td>\n",
              "      <td>0.839587</td>\n",
              "      <td>0.327410</td>\n",
              "      <td>-0.740068</td>\n",
              "    </tr>\n",
              "  </tbody>\n",
              "</table>\n",
              "</div>\n",
              "      <button class=\"colab-df-convert\" onclick=\"convertToInteractive('df-c597ed26-409b-40ae-9df0-4aa175950b1c')\"\n",
              "              title=\"Convert this dataframe to an interactive table.\"\n",
              "              style=\"display:none;\">\n",
              "        \n",
              "  <svg xmlns=\"http://www.w3.org/2000/svg\" height=\"24px\"viewBox=\"0 0 24 24\"\n",
              "       width=\"24px\">\n",
              "    <path d=\"M0 0h24v24H0V0z\" fill=\"none\"/>\n",
              "    <path d=\"M18.56 5.44l.94 2.06.94-2.06 2.06-.94-2.06-.94-.94-2.06-.94 2.06-2.06.94zm-11 1L8.5 8.5l.94-2.06 2.06-.94-2.06-.94L8.5 2.5l-.94 2.06-2.06.94zm10 10l.94 2.06.94-2.06 2.06-.94-2.06-.94-.94-2.06-.94 2.06-2.06.94z\"/><path d=\"M17.41 7.96l-1.37-1.37c-.4-.4-.92-.59-1.43-.59-.52 0-1.04.2-1.43.59L10.3 9.45l-7.72 7.72c-.78.78-.78 2.05 0 2.83L4 21.41c.39.39.9.59 1.41.59.51 0 1.02-.2 1.41-.59l7.78-7.78 2.81-2.81c.8-.78.8-2.07 0-2.86zM5.41 20L4 18.59l7.72-7.72 1.47 1.35L5.41 20z\"/>\n",
              "  </svg>\n",
              "      </button>\n",
              "      \n",
              "  <style>\n",
              "    .colab-df-container {\n",
              "      display:flex;\n",
              "      flex-wrap:wrap;\n",
              "      gap: 12px;\n",
              "    }\n",
              "\n",
              "    .colab-df-convert {\n",
              "      background-color: #E8F0FE;\n",
              "      border: none;\n",
              "      border-radius: 50%;\n",
              "      cursor: pointer;\n",
              "      display: none;\n",
              "      fill: #1967D2;\n",
              "      height: 32px;\n",
              "      padding: 0 0 0 0;\n",
              "      width: 32px;\n",
              "    }\n",
              "\n",
              "    .colab-df-convert:hover {\n",
              "      background-color: #E2EBFA;\n",
              "      box-shadow: 0px 1px 2px rgba(60, 64, 67, 0.3), 0px 1px 3px 1px rgba(60, 64, 67, 0.15);\n",
              "      fill: #174EA6;\n",
              "    }\n",
              "\n",
              "    [theme=dark] .colab-df-convert {\n",
              "      background-color: #3B4455;\n",
              "      fill: #D2E3FC;\n",
              "    }\n",
              "\n",
              "    [theme=dark] .colab-df-convert:hover {\n",
              "      background-color: #434B5C;\n",
              "      box-shadow: 0px 1px 3px 1px rgba(0, 0, 0, 0.15);\n",
              "      filter: drop-shadow(0px 1px 2px rgba(0, 0, 0, 0.3));\n",
              "      fill: #FFFFFF;\n",
              "    }\n",
              "  </style>\n",
              "\n",
              "      <script>\n",
              "        const buttonEl =\n",
              "          document.querySelector('#df-c597ed26-409b-40ae-9df0-4aa175950b1c button.colab-df-convert');\n",
              "        buttonEl.style.display =\n",
              "          google.colab.kernel.accessAllowed ? 'block' : 'none';\n",
              "\n",
              "        async function convertToInteractive(key) {\n",
              "          const element = document.querySelector('#df-c597ed26-409b-40ae-9df0-4aa175950b1c');\n",
              "          const dataTable =\n",
              "            await google.colab.kernel.invokeFunction('convertToInteractive',\n",
              "                                                     [key], {});\n",
              "          if (!dataTable) return;\n",
              "\n",
              "          const docLinkHtml = 'Like what you see? Visit the ' +\n",
              "            '<a target=\"_blank\" href=https://colab.research.google.com/notebooks/data_table.ipynb>data table notebook</a>'\n",
              "            + ' to learn more about interactive tables.';\n",
              "          element.innerHTML = '';\n",
              "          dataTable['output_type'] = 'display_data';\n",
              "          await google.colab.output.renderOutput(dataTable, element);\n",
              "          const docLink = document.createElement('div');\n",
              "          docLink.innerHTML = docLinkHtml;\n",
              "          element.appendChild(docLink);\n",
              "        }\n",
              "      </script>\n",
              "    </div>\n",
              "  </div>\n",
              "  "
            ]
          },
          "metadata": {},
          "execution_count": 27
        }
      ]
    },
    {
      "cell_type": "markdown",
      "source": [
        "### Wrapper Method"
      ],
      "metadata": {
        "id": "snabr_RXMNzv"
      }
    },
    {
      "cell_type": "markdown",
      "source": [
        "Wrapper methods are methods that select features by evaluating the performance of\n",
        "model for each feature in the dataset. An example of an algorithm that can be used is sequential floating forward\n",
        "selection (SFFS)."
      ],
      "metadata": {
        "id": "2BQmizJOMQzf"
      }
    },
    {
      "cell_type": "code",
      "source": [
        "# separating dependent variable data from independent variables\n",
        "X = df_wrap.drop(['event'], axis=1)\n",
        "y = df_wrap['event']"
      ],
      "metadata": {
        "id": "OJQkmWrfMgvi"
      },
      "execution_count": 28,
      "outputs": []
    },
    {
      "cell_type": "code",
      "source": [
        "# feature selection initiation using sequential forward selection\n",
        "sfs1 = SFS(SVC(), \n",
        "           k_features=10, \n",
        "           forward=True, \n",
        "           scoring='accuracy',\n",
        "           cv=5)\n",
        "\n",
        "sfs1 = sfs1.fit(np.array(X), y)"
      ],
      "metadata": {
        "id": "z5H-2_dSOVIy"
      },
      "execution_count": 29,
      "outputs": []
    },
    {
      "cell_type": "code",
      "source": [
        "# selected feature index\n",
        "sfs1.k_feature_idx_"
      ],
      "metadata": {
        "colab": {
          "base_uri": "https://localhost:8080/"
        },
        "id": "ZL07pt2fO1H-",
        "outputId": "4cf8c333-b81d-407b-d374-d6a7df7060a0"
      },
      "execution_count": 30,
      "outputs": [
        {
          "output_type": "execute_result",
          "data": {
            "text/plain": [
              "(0, 1, 2, 3, 4, 7, 8, 9, 11, 13)"
            ]
          },
          "metadata": {},
          "execution_count": 30
        }
      ]
    },
    {
      "cell_type": "code",
      "source": [
        "# get the feature name by index\n",
        "select_column = X.columns[list(sfs1.k_feature_idx_)]"
      ],
      "metadata": {
        "id": "4Soq0wSlO49I"
      },
      "execution_count": 31,
      "outputs": []
    },
    {
      "cell_type": "code",
      "source": [
        "# apply to the dataframe\n",
        "df_wrap = df_wrap[select_column]\n",
        "\n",
        "df_wrap.head()"
      ],
      "metadata": {
        "colab": {
          "base_uri": "https://localhost:8080/",
          "height": 206
        },
        "id": "1LchxOsBPN6O",
        "outputId": "ad49a9f0-c462-4baf-f85f-fb918c848087"
      },
      "execution_count": 32,
      "outputs": [
        {
          "output_type": "execute_result",
          "data": {
            "text/plain": [
              "       stag    gender       age  industry  profession  head_gender  greywage  \\\n",
              "0 -0.868410  1.758004  0.562421 -1.563361   -0.223105    -1.035162  0.356015   \n",
              "1 -0.400875  1.758004  0.276422 -1.563361   -0.223105     0.966033  0.356015   \n",
              "2 -0.607169 -0.568827  0.562421 -0.145283   -0.223105     0.966033  0.356015   \n",
              "3 -0.607169 -0.568827  0.562421 -0.145283   -0.223105     0.966033  0.356015   \n",
              "4 -0.827923  1.758004  0.133423  0.327410   -1.814798    -1.035162  0.356015   \n",
              "\n",
              "        way  independ   anxiety  \n",
              "0 -0.740068 -0.809390  0.839587  \n",
              "1 -0.740068 -0.809390  0.839587  \n",
              "2 -0.740068  0.424048 -0.506687  \n",
              "3 -0.740068  1.246340 -1.852961  \n",
              "4 -0.740068 -0.809390  0.839587  "
            ],
            "text/html": [
              "\n",
              "  <div id=\"df-bca8b937-6d60-4af5-bde2-4ee6674039e9\">\n",
              "    <div class=\"colab-df-container\">\n",
              "      <div>\n",
              "<style scoped>\n",
              "    .dataframe tbody tr th:only-of-type {\n",
              "        vertical-align: middle;\n",
              "    }\n",
              "\n",
              "    .dataframe tbody tr th {\n",
              "        vertical-align: top;\n",
              "    }\n",
              "\n",
              "    .dataframe thead th {\n",
              "        text-align: right;\n",
              "    }\n",
              "</style>\n",
              "<table border=\"1\" class=\"dataframe\">\n",
              "  <thead>\n",
              "    <tr style=\"text-align: right;\">\n",
              "      <th></th>\n",
              "      <th>stag</th>\n",
              "      <th>gender</th>\n",
              "      <th>age</th>\n",
              "      <th>industry</th>\n",
              "      <th>profession</th>\n",
              "      <th>head_gender</th>\n",
              "      <th>greywage</th>\n",
              "      <th>way</th>\n",
              "      <th>independ</th>\n",
              "      <th>anxiety</th>\n",
              "    </tr>\n",
              "  </thead>\n",
              "  <tbody>\n",
              "    <tr>\n",
              "      <th>0</th>\n",
              "      <td>-0.868410</td>\n",
              "      <td>1.758004</td>\n",
              "      <td>0.562421</td>\n",
              "      <td>-1.563361</td>\n",
              "      <td>-0.223105</td>\n",
              "      <td>-1.035162</td>\n",
              "      <td>0.356015</td>\n",
              "      <td>-0.740068</td>\n",
              "      <td>-0.809390</td>\n",
              "      <td>0.839587</td>\n",
              "    </tr>\n",
              "    <tr>\n",
              "      <th>1</th>\n",
              "      <td>-0.400875</td>\n",
              "      <td>1.758004</td>\n",
              "      <td>0.276422</td>\n",
              "      <td>-1.563361</td>\n",
              "      <td>-0.223105</td>\n",
              "      <td>0.966033</td>\n",
              "      <td>0.356015</td>\n",
              "      <td>-0.740068</td>\n",
              "      <td>-0.809390</td>\n",
              "      <td>0.839587</td>\n",
              "    </tr>\n",
              "    <tr>\n",
              "      <th>2</th>\n",
              "      <td>-0.607169</td>\n",
              "      <td>-0.568827</td>\n",
              "      <td>0.562421</td>\n",
              "      <td>-0.145283</td>\n",
              "      <td>-0.223105</td>\n",
              "      <td>0.966033</td>\n",
              "      <td>0.356015</td>\n",
              "      <td>-0.740068</td>\n",
              "      <td>0.424048</td>\n",
              "      <td>-0.506687</td>\n",
              "    </tr>\n",
              "    <tr>\n",
              "      <th>3</th>\n",
              "      <td>-0.607169</td>\n",
              "      <td>-0.568827</td>\n",
              "      <td>0.562421</td>\n",
              "      <td>-0.145283</td>\n",
              "      <td>-0.223105</td>\n",
              "      <td>0.966033</td>\n",
              "      <td>0.356015</td>\n",
              "      <td>-0.740068</td>\n",
              "      <td>1.246340</td>\n",
              "      <td>-1.852961</td>\n",
              "    </tr>\n",
              "    <tr>\n",
              "      <th>4</th>\n",
              "      <td>-0.827923</td>\n",
              "      <td>1.758004</td>\n",
              "      <td>0.133423</td>\n",
              "      <td>0.327410</td>\n",
              "      <td>-1.814798</td>\n",
              "      <td>-1.035162</td>\n",
              "      <td>0.356015</td>\n",
              "      <td>-0.740068</td>\n",
              "      <td>-0.809390</td>\n",
              "      <td>0.839587</td>\n",
              "    </tr>\n",
              "  </tbody>\n",
              "</table>\n",
              "</div>\n",
              "      <button class=\"colab-df-convert\" onclick=\"convertToInteractive('df-bca8b937-6d60-4af5-bde2-4ee6674039e9')\"\n",
              "              title=\"Convert this dataframe to an interactive table.\"\n",
              "              style=\"display:none;\">\n",
              "        \n",
              "  <svg xmlns=\"http://www.w3.org/2000/svg\" height=\"24px\"viewBox=\"0 0 24 24\"\n",
              "       width=\"24px\">\n",
              "    <path d=\"M0 0h24v24H0V0z\" fill=\"none\"/>\n",
              "    <path d=\"M18.56 5.44l.94 2.06.94-2.06 2.06-.94-2.06-.94-.94-2.06-.94 2.06-2.06.94zm-11 1L8.5 8.5l.94-2.06 2.06-.94-2.06-.94L8.5 2.5l-.94 2.06-2.06.94zm10 10l.94 2.06.94-2.06 2.06-.94-2.06-.94-.94-2.06-.94 2.06-2.06.94z\"/><path d=\"M17.41 7.96l-1.37-1.37c-.4-.4-.92-.59-1.43-.59-.52 0-1.04.2-1.43.59L10.3 9.45l-7.72 7.72c-.78.78-.78 2.05 0 2.83L4 21.41c.39.39.9.59 1.41.59.51 0 1.02-.2 1.41-.59l7.78-7.78 2.81-2.81c.8-.78.8-2.07 0-2.86zM5.41 20L4 18.59l7.72-7.72 1.47 1.35L5.41 20z\"/>\n",
              "  </svg>\n",
              "      </button>\n",
              "      \n",
              "  <style>\n",
              "    .colab-df-container {\n",
              "      display:flex;\n",
              "      flex-wrap:wrap;\n",
              "      gap: 12px;\n",
              "    }\n",
              "\n",
              "    .colab-df-convert {\n",
              "      background-color: #E8F0FE;\n",
              "      border: none;\n",
              "      border-radius: 50%;\n",
              "      cursor: pointer;\n",
              "      display: none;\n",
              "      fill: #1967D2;\n",
              "      height: 32px;\n",
              "      padding: 0 0 0 0;\n",
              "      width: 32px;\n",
              "    }\n",
              "\n",
              "    .colab-df-convert:hover {\n",
              "      background-color: #E2EBFA;\n",
              "      box-shadow: 0px 1px 2px rgba(60, 64, 67, 0.3), 0px 1px 3px 1px rgba(60, 64, 67, 0.15);\n",
              "      fill: #174EA6;\n",
              "    }\n",
              "\n",
              "    [theme=dark] .colab-df-convert {\n",
              "      background-color: #3B4455;\n",
              "      fill: #D2E3FC;\n",
              "    }\n",
              "\n",
              "    [theme=dark] .colab-df-convert:hover {\n",
              "      background-color: #434B5C;\n",
              "      box-shadow: 0px 1px 3px 1px rgba(0, 0, 0, 0.15);\n",
              "      filter: drop-shadow(0px 1px 2px rgba(0, 0, 0, 0.3));\n",
              "      fill: #FFFFFF;\n",
              "    }\n",
              "  </style>\n",
              "\n",
              "      <script>\n",
              "        const buttonEl =\n",
              "          document.querySelector('#df-bca8b937-6d60-4af5-bde2-4ee6674039e9 button.colab-df-convert');\n",
              "        buttonEl.style.display =\n",
              "          google.colab.kernel.accessAllowed ? 'block' : 'none';\n",
              "\n",
              "        async function convertToInteractive(key) {\n",
              "          const element = document.querySelector('#df-bca8b937-6d60-4af5-bde2-4ee6674039e9');\n",
              "          const dataTable =\n",
              "            await google.colab.kernel.invokeFunction('convertToInteractive',\n",
              "                                                     [key], {});\n",
              "          if (!dataTable) return;\n",
              "\n",
              "          const docLinkHtml = 'Like what you see? Visit the ' +\n",
              "            '<a target=\"_blank\" href=https://colab.research.google.com/notebooks/data_table.ipynb>data table notebook</a>'\n",
              "            + ' to learn more about interactive tables.';\n",
              "          element.innerHTML = '';\n",
              "          dataTable['output_type'] = 'display_data';\n",
              "          await google.colab.output.renderOutput(dataTable, element);\n",
              "          const docLink = document.createElement('div');\n",
              "          docLink.innerHTML = docLinkHtml;\n",
              "          element.appendChild(docLink);\n",
              "        }\n",
              "      </script>\n",
              "    </div>\n",
              "  </div>\n",
              "  "
            ]
          },
          "metadata": {},
          "execution_count": 32
        }
      ]
    },
    {
      "cell_type": "markdown",
      "source": [
        "### Embedded Method"
      ],
      "metadata": {
        "id": "6Ue_vFpWPXRO"
      }
    },
    {
      "cell_type": "markdown",
      "source": [
        "Embedded methods use an approach by incorporating feature selection as part of\n",
        "model training."
      ],
      "metadata": {
        "id": "TaKETUiZPZ1e"
      }
    },
    {
      "cell_type": "code",
      "source": [
        "# initialize the classifier\n",
        "rf = RandomForestClassifier()"
      ],
      "metadata": {
        "id": "Wh5IazX2PnjW"
      },
      "execution_count": 33,
      "outputs": []
    },
    {
      "cell_type": "code",
      "source": [
        "# process learning classifier\n",
        "rf.fit(X,y)\n",
        "\n",
        "# taking feature importance after the learning process\n",
        "importances = rf.feature_importances_\n",
        "indices = np.argsort(importances)\n",
        "\n",
        "# displays the feature index\n",
        "for i in indices:\n",
        "    print(f'Feature {i} : {importances[i]}')"
      ],
      "metadata": {
        "colab": {
          "base_uri": "https://localhost:8080/"
        },
        "id": "_vIKpHY9QDVy",
        "outputId": "4356161f-6292-4061-9130-4e36bb04d64a"
      },
      "execution_count": 34,
      "outputs": [
        {
          "output_type": "stream",
          "name": "stdout",
          "text": [
            "Feature 8 : 0.013862700746205917\n",
            "Feature 1 : 0.015795078241002538\n",
            "Feature 7 : 0.0227181785683619\n",
            "Feature 6 : 0.03517621213363586\n",
            "Feature 9 : 0.03567628256658565\n",
            "Feature 4 : 0.06199262521627554\n",
            "Feature 5 : 0.06812360493134072\n",
            "Feature 10 : 0.07086090775584337\n",
            "Feature 13 : 0.07276066876047901\n",
            "Feature 12 : 0.07817981106086586\n",
            "Feature 14 : 0.07992379180893124\n",
            "Feature 11 : 0.08134219844061909\n",
            "Feature 3 : 0.1018458108726336\n",
            "Feature 2 : 0.11467148076278681\n",
            "Feature 0 : 0.14707064813443313\n"
          ]
        }
      ]
    },
    {
      "cell_type": "code",
      "source": [
        "# selecting features with an importance value more than 0.07\n",
        "inx_column = [0,2,3,12,11,14,10,13]"
      ],
      "metadata": {
        "id": "EJFFhBLAQedS"
      },
      "execution_count": 35,
      "outputs": []
    },
    {
      "cell_type": "code",
      "source": [
        "# apply to the dataframe\n",
        "df_embd = df_embd[df_embd.iloc[:,inx_column].columns]\n",
        "\n",
        "df_embd.head()"
      ],
      "metadata": {
        "colab": {
          "base_uri": "https://localhost:8080/",
          "height": 206
        },
        "id": "SY4_6eGRQqwu",
        "outputId": "81aeeab6-743a-496a-f7f9-a7eb5485c47f"
      },
      "execution_count": 36,
      "outputs": [
        {
          "output_type": "execute_result",
          "data": {
            "text/plain": [
              "       stag    gender       age  independ  extraversion   anxiety       way  \\\n",
              "0 -0.868410  1.758004  0.562421 -0.809390      0.328297  0.839587 -0.740068   \n",
              "1 -0.400875  1.758004  0.276422 -0.809390      0.328297  0.839587 -0.740068   \n",
              "2 -0.607169 -0.568827  0.562421  0.424048      0.328297 -0.506687 -0.740068   \n",
              "3 -0.607169 -0.568827  0.562421  1.246340     -0.103945 -1.852961 -0.740068   \n",
              "4 -0.827923  1.758004  0.133423 -0.809390     -1.400670  0.839587 -0.740068   \n",
              "\n",
              "   selfcontrol  \n",
              "0     0.051912  \n",
              "1     0.051912  \n",
              "2    -1.514359  \n",
              "3    -0.352287  \n",
              "4     1.213984  "
            ],
            "text/html": [
              "\n",
              "  <div id=\"df-5528ead3-856e-43bf-9c20-5448f5c62f30\">\n",
              "    <div class=\"colab-df-container\">\n",
              "      <div>\n",
              "<style scoped>\n",
              "    .dataframe tbody tr th:only-of-type {\n",
              "        vertical-align: middle;\n",
              "    }\n",
              "\n",
              "    .dataframe tbody tr th {\n",
              "        vertical-align: top;\n",
              "    }\n",
              "\n",
              "    .dataframe thead th {\n",
              "        text-align: right;\n",
              "    }\n",
              "</style>\n",
              "<table border=\"1\" class=\"dataframe\">\n",
              "  <thead>\n",
              "    <tr style=\"text-align: right;\">\n",
              "      <th></th>\n",
              "      <th>stag</th>\n",
              "      <th>gender</th>\n",
              "      <th>age</th>\n",
              "      <th>independ</th>\n",
              "      <th>extraversion</th>\n",
              "      <th>anxiety</th>\n",
              "      <th>way</th>\n",
              "      <th>selfcontrol</th>\n",
              "    </tr>\n",
              "  </thead>\n",
              "  <tbody>\n",
              "    <tr>\n",
              "      <th>0</th>\n",
              "      <td>-0.868410</td>\n",
              "      <td>1.758004</td>\n",
              "      <td>0.562421</td>\n",
              "      <td>-0.809390</td>\n",
              "      <td>0.328297</td>\n",
              "      <td>0.839587</td>\n",
              "      <td>-0.740068</td>\n",
              "      <td>0.051912</td>\n",
              "    </tr>\n",
              "    <tr>\n",
              "      <th>1</th>\n",
              "      <td>-0.400875</td>\n",
              "      <td>1.758004</td>\n",
              "      <td>0.276422</td>\n",
              "      <td>-0.809390</td>\n",
              "      <td>0.328297</td>\n",
              "      <td>0.839587</td>\n",
              "      <td>-0.740068</td>\n",
              "      <td>0.051912</td>\n",
              "    </tr>\n",
              "    <tr>\n",
              "      <th>2</th>\n",
              "      <td>-0.607169</td>\n",
              "      <td>-0.568827</td>\n",
              "      <td>0.562421</td>\n",
              "      <td>0.424048</td>\n",
              "      <td>0.328297</td>\n",
              "      <td>-0.506687</td>\n",
              "      <td>-0.740068</td>\n",
              "      <td>-1.514359</td>\n",
              "    </tr>\n",
              "    <tr>\n",
              "      <th>3</th>\n",
              "      <td>-0.607169</td>\n",
              "      <td>-0.568827</td>\n",
              "      <td>0.562421</td>\n",
              "      <td>1.246340</td>\n",
              "      <td>-0.103945</td>\n",
              "      <td>-1.852961</td>\n",
              "      <td>-0.740068</td>\n",
              "      <td>-0.352287</td>\n",
              "    </tr>\n",
              "    <tr>\n",
              "      <th>4</th>\n",
              "      <td>-0.827923</td>\n",
              "      <td>1.758004</td>\n",
              "      <td>0.133423</td>\n",
              "      <td>-0.809390</td>\n",
              "      <td>-1.400670</td>\n",
              "      <td>0.839587</td>\n",
              "      <td>-0.740068</td>\n",
              "      <td>1.213984</td>\n",
              "    </tr>\n",
              "  </tbody>\n",
              "</table>\n",
              "</div>\n",
              "      <button class=\"colab-df-convert\" onclick=\"convertToInteractive('df-5528ead3-856e-43bf-9c20-5448f5c62f30')\"\n",
              "              title=\"Convert this dataframe to an interactive table.\"\n",
              "              style=\"display:none;\">\n",
              "        \n",
              "  <svg xmlns=\"http://www.w3.org/2000/svg\" height=\"24px\"viewBox=\"0 0 24 24\"\n",
              "       width=\"24px\">\n",
              "    <path d=\"M0 0h24v24H0V0z\" fill=\"none\"/>\n",
              "    <path d=\"M18.56 5.44l.94 2.06.94-2.06 2.06-.94-2.06-.94-.94-2.06-.94 2.06-2.06.94zm-11 1L8.5 8.5l.94-2.06 2.06-.94-2.06-.94L8.5 2.5l-.94 2.06-2.06.94zm10 10l.94 2.06.94-2.06 2.06-.94-2.06-.94-.94-2.06-.94 2.06-2.06.94z\"/><path d=\"M17.41 7.96l-1.37-1.37c-.4-.4-.92-.59-1.43-.59-.52 0-1.04.2-1.43.59L10.3 9.45l-7.72 7.72c-.78.78-.78 2.05 0 2.83L4 21.41c.39.39.9.59 1.41.59.51 0 1.02-.2 1.41-.59l7.78-7.78 2.81-2.81c.8-.78.8-2.07 0-2.86zM5.41 20L4 18.59l7.72-7.72 1.47 1.35L5.41 20z\"/>\n",
              "  </svg>\n",
              "      </button>\n",
              "      \n",
              "  <style>\n",
              "    .colab-df-container {\n",
              "      display:flex;\n",
              "      flex-wrap:wrap;\n",
              "      gap: 12px;\n",
              "    }\n",
              "\n",
              "    .colab-df-convert {\n",
              "      background-color: #E8F0FE;\n",
              "      border: none;\n",
              "      border-radius: 50%;\n",
              "      cursor: pointer;\n",
              "      display: none;\n",
              "      fill: #1967D2;\n",
              "      height: 32px;\n",
              "      padding: 0 0 0 0;\n",
              "      width: 32px;\n",
              "    }\n",
              "\n",
              "    .colab-df-convert:hover {\n",
              "      background-color: #E2EBFA;\n",
              "      box-shadow: 0px 1px 2px rgba(60, 64, 67, 0.3), 0px 1px 3px 1px rgba(60, 64, 67, 0.15);\n",
              "      fill: #174EA6;\n",
              "    }\n",
              "\n",
              "    [theme=dark] .colab-df-convert {\n",
              "      background-color: #3B4455;\n",
              "      fill: #D2E3FC;\n",
              "    }\n",
              "\n",
              "    [theme=dark] .colab-df-convert:hover {\n",
              "      background-color: #434B5C;\n",
              "      box-shadow: 0px 1px 3px 1px rgba(0, 0, 0, 0.15);\n",
              "      filter: drop-shadow(0px 1px 2px rgba(0, 0, 0, 0.3));\n",
              "      fill: #FFFFFF;\n",
              "    }\n",
              "  </style>\n",
              "\n",
              "      <script>\n",
              "        const buttonEl =\n",
              "          document.querySelector('#df-5528ead3-856e-43bf-9c20-5448f5c62f30 button.colab-df-convert');\n",
              "        buttonEl.style.display =\n",
              "          google.colab.kernel.accessAllowed ? 'block' : 'none';\n",
              "\n",
              "        async function convertToInteractive(key) {\n",
              "          const element = document.querySelector('#df-5528ead3-856e-43bf-9c20-5448f5c62f30');\n",
              "          const dataTable =\n",
              "            await google.colab.kernel.invokeFunction('convertToInteractive',\n",
              "                                                     [key], {});\n",
              "          if (!dataTable) return;\n",
              "\n",
              "          const docLinkHtml = 'Like what you see? Visit the ' +\n",
              "            '<a target=\"_blank\" href=https://colab.research.google.com/notebooks/data_table.ipynb>data table notebook</a>'\n",
              "            + ' to learn more about interactive tables.';\n",
              "          element.innerHTML = '';\n",
              "          dataTable['output_type'] = 'display_data';\n",
              "          await google.colab.output.renderOutput(dataTable, element);\n",
              "          const docLink = document.createElement('div');\n",
              "          docLink.innerHTML = docLinkHtml;\n",
              "          element.appendChild(docLink);\n",
              "        }\n",
              "      </script>\n",
              "    </div>\n",
              "  </div>\n",
              "  "
            ]
          },
          "metadata": {},
          "execution_count": 36
        }
      ]
    },
    {
      "cell_type": "markdown",
      "source": [
        "## Support Vector Machine"
      ],
      "metadata": {
        "id": "VpM2SAEvQzvx"
      }
    },
    {
      "cell_type": "markdown",
      "source": [
        "Support Vector Machine will be used as a machine learning method to test performance in predicting each given dataset. The metric evaluation that used to select the best model is based on accuracy model."
      ],
      "metadata": {
        "id": "xppqx6W3TS5w"
      }
    },
    {
      "cell_type": "code",
      "source": [
        "# separation of independent variables with dependent variables\n",
        "X = df_norm.drop(['event'], axis=1)\n",
        "y = df_norm['event']"
      ],
      "metadata": {
        "id": "2IXdbOW0Q-_R"
      },
      "execution_count": 37,
      "outputs": []
    },
    {
      "cell_type": "markdown",
      "source": [
        "### Without Feature Selection"
      ],
      "metadata": {
        "id": "nFct7cU0Q8XG"
      }
    },
    {
      "cell_type": "code",
      "source": [
        "# split the dataset with a percentage of 80% data train and 20% data test\n",
        "X_train, X_test, y_train, y_test = train_test_split(X, y, test_size = 0.2, random_state = 0)"
      ],
      "metadata": {
        "id": "G5a9HPbxRGOX"
      },
      "execution_count": 38,
      "outputs": []
    },
    {
      "cell_type": "code",
      "source": [
        "# displays the size of the data train and data teset\n",
        "X_train.shape, X_test.shape"
      ],
      "metadata": {
        "colab": {
          "base_uri": "https://localhost:8080/"
        },
        "id": "J74Ld5TCRHWG",
        "outputId": "2650e162-e993-41a4-e0e5-7251a5eb7695"
      },
      "execution_count": 39,
      "outputs": [
        {
          "output_type": "execute_result",
          "data": {
            "text/plain": [
              "((903, 15), (226, 15))"
            ]
          },
          "metadata": {},
          "execution_count": 39
        }
      ]
    },
    {
      "cell_type": "code",
      "source": [
        "# initialize SVC\n",
        "svc=SVC() \n",
        "\n",
        "# perform SVC training for data train\n",
        "svc.fit(X_train,y_train)\n",
        "\n",
        "# make predictions from the model on the data test\n",
        "y_pred=svc.predict(X_test)\n",
        "\n",
        "# evaluates model prediction\n",
        "report = classification_report(y_test, y_pred)\n",
        "print(report)"
      ],
      "metadata": {
        "colab": {
          "base_uri": "https://localhost:8080/"
        },
        "id": "UZt2-5UaRJLG",
        "outputId": "a54c02a7-ffb3-42cd-a061-23132161083b"
      },
      "execution_count": 40,
      "outputs": [
        {
          "output_type": "stream",
          "name": "stdout",
          "text": [
            "              precision    recall  f1-score   support\n",
            "\n",
            "           0       0.58      0.55      0.56       116\n",
            "           1       0.55      0.57      0.56       110\n",
            "\n",
            "    accuracy                           0.56       226\n",
            "   macro avg       0.56      0.56      0.56       226\n",
            "weighted avg       0.56      0.56      0.56       226\n",
            "\n"
          ]
        }
      ]
    },
    {
      "cell_type": "code",
      "source": [
        "print('Model accuracy score: {0:0.4f}'. format(accuracy_score(y_test, y_pred)))"
      ],
      "metadata": {
        "colab": {
          "base_uri": "https://localhost:8080/"
        },
        "id": "IuIvHMTsSEwy",
        "outputId": "21340d86-8aba-4a0e-cb95-3b3993371077"
      },
      "execution_count": 41,
      "outputs": [
        {
          "output_type": "stream",
          "name": "stdout",
          "text": [
            "Model accuracy score: 0.5619\n"
          ]
        }
      ]
    },
    {
      "cell_type": "markdown",
      "source": [
        "### Filter Method Selection"
      ],
      "metadata": {
        "id": "QVwVTocLUVMF"
      }
    },
    {
      "cell_type": "code",
      "source": [
        "# split the dataset with a percentage of 80% data train and 20% data test\n",
        "X_train, X_test, y_train, y_test = train_test_split(df_filt, y, test_size = 0.2, random_state = 0)"
      ],
      "metadata": {
        "id": "RWVxJH_BUVMR"
      },
      "execution_count": 42,
      "outputs": []
    },
    {
      "cell_type": "code",
      "source": [
        "# displays the size of the data train and data teset\n",
        "X_train.shape, X_test.shape"
      ],
      "metadata": {
        "colab": {
          "base_uri": "https://localhost:8080/"
        },
        "id": "eezKuKSgUVMR",
        "outputId": "d463ba19-7884-4b45-884b-d1890c154661"
      },
      "execution_count": 43,
      "outputs": [
        {
          "output_type": "execute_result",
          "data": {
            "text/plain": [
              "((903, 5), (226, 5))"
            ]
          },
          "metadata": {},
          "execution_count": 43
        }
      ]
    },
    {
      "cell_type": "code",
      "source": [
        "# initialize SVC\n",
        "svc=SVC() \n",
        "\n",
        "# perform SVC training for data train\n",
        "svc.fit(X_train,y_train)\n",
        "\n",
        "# make predictions from the model on the data test\n",
        "y_pred=svc.predict(X_test)\n",
        "\n",
        "# evaluates model prediction\n",
        "report = classification_report(y_test, y_pred)\n",
        "print(report)"
      ],
      "metadata": {
        "colab": {
          "base_uri": "https://localhost:8080/"
        },
        "id": "LsTRgR9DUVMR",
        "outputId": "43bb9ec7-c1d8-49a7-dc40-4a1c3f2620ce"
      },
      "execution_count": 44,
      "outputs": [
        {
          "output_type": "stream",
          "name": "stdout",
          "text": [
            "              precision    recall  f1-score   support\n",
            "\n",
            "           0       0.57      0.53      0.55       116\n",
            "           1       0.54      0.57      0.56       110\n",
            "\n",
            "    accuracy                           0.55       226\n",
            "   macro avg       0.55      0.55      0.55       226\n",
            "weighted avg       0.55      0.55      0.55       226\n",
            "\n"
          ]
        }
      ]
    },
    {
      "cell_type": "code",
      "source": [
        "print('Model accuracy score: {0:0.4f}'. format(accuracy_score(y_test, y_pred)))"
      ],
      "metadata": {
        "colab": {
          "base_uri": "https://localhost:8080/"
        },
        "id": "3VpiQO9SUVMR",
        "outputId": "c6c10782-efae-4759-92d8-efdf274b84e8"
      },
      "execution_count": 45,
      "outputs": [
        {
          "output_type": "stream",
          "name": "stdout",
          "text": [
            "Model accuracy score: 0.5531\n"
          ]
        }
      ]
    },
    {
      "cell_type": "markdown",
      "source": [
        "### Wrapper Method Selection"
      ],
      "metadata": {
        "id": "hLTLPLflUWPC"
      }
    },
    {
      "cell_type": "code",
      "source": [
        "# split the dataset with a percentage of 80% data train and 20% data test\n",
        "X_train, X_test, y_train, y_test = train_test_split(df_wrap, y, test_size = 0.2, random_state = 0)"
      ],
      "metadata": {
        "id": "wO1JaKCBUWPU"
      },
      "execution_count": 46,
      "outputs": []
    },
    {
      "cell_type": "code",
      "source": [
        "# displays the size of the data train and data teset\n",
        "X_train.shape, X_test.shape"
      ],
      "metadata": {
        "colab": {
          "base_uri": "https://localhost:8080/"
        },
        "id": "4x2XNJgWUWPU",
        "outputId": "74adf1ec-7bb5-4647-c18c-f7275fef1419"
      },
      "execution_count": 47,
      "outputs": [
        {
          "output_type": "execute_result",
          "data": {
            "text/plain": [
              "((903, 10), (226, 10))"
            ]
          },
          "metadata": {},
          "execution_count": 47
        }
      ]
    },
    {
      "cell_type": "code",
      "source": [
        "# initialize SVC\n",
        "svc=SVC() \n",
        "\n",
        "# perform SVC training for data train\n",
        "svc.fit(X_train,y_train)\n",
        "\n",
        "# make predictions from the model on the data test\n",
        "y_pred=svc.predict(X_test)\n",
        "\n",
        "# evaluates model prediction\n",
        "report = classification_report(y_test, y_pred)\n",
        "print(report)"
      ],
      "metadata": {
        "colab": {
          "base_uri": "https://localhost:8080/"
        },
        "id": "qJc-Jq-hUWPU",
        "outputId": "c22bfd8d-fd26-4ae2-c64d-4d37193d24f7"
      },
      "execution_count": 48,
      "outputs": [
        {
          "output_type": "stream",
          "name": "stdout",
          "text": [
            "              precision    recall  f1-score   support\n",
            "\n",
            "           0       0.60      0.65      0.62       116\n",
            "           1       0.59      0.55      0.57       110\n",
            "\n",
            "    accuracy                           0.60       226\n",
            "   macro avg       0.60      0.60      0.60       226\n",
            "weighted avg       0.60      0.60      0.60       226\n",
            "\n"
          ]
        }
      ]
    },
    {
      "cell_type": "code",
      "source": [
        "print('Model accuracy score: {0:0.4f}'. format(accuracy_score(y_test, y_pred)))"
      ],
      "metadata": {
        "colab": {
          "base_uri": "https://localhost:8080/"
        },
        "id": "_CwKwEevUWPV",
        "outputId": "814fafdb-c8b1-4d7a-d22e-0220ed47022a"
      },
      "execution_count": 49,
      "outputs": [
        {
          "output_type": "stream",
          "name": "stdout",
          "text": [
            "Model accuracy score: 0.5973\n"
          ]
        }
      ]
    },
    {
      "cell_type": "markdown",
      "source": [
        "### Embedded Method Selection"
      ],
      "metadata": {
        "id": "G1eGX38uUW7c"
      }
    },
    {
      "cell_type": "code",
      "source": [
        "# split the dataset with a percentage of 80% data train and 20% data test\n",
        "X_train, X_test, y_train, y_test = train_test_split(df_embd, y, test_size = 0.2, random_state = 0)"
      ],
      "metadata": {
        "id": "qz5dlrJIUW7d"
      },
      "execution_count": 50,
      "outputs": []
    },
    {
      "cell_type": "code",
      "source": [
        "# displays the size of the data train and data teset\n",
        "X_train.shape, X_test.shape"
      ],
      "metadata": {
        "colab": {
          "base_uri": "https://localhost:8080/"
        },
        "id": "AkzCowm4UW7e",
        "outputId": "7ac8673e-e6fd-43cf-f07c-648dd445881f"
      },
      "execution_count": 51,
      "outputs": [
        {
          "output_type": "execute_result",
          "data": {
            "text/plain": [
              "((903, 8), (226, 8))"
            ]
          },
          "metadata": {},
          "execution_count": 51
        }
      ]
    },
    {
      "cell_type": "code",
      "source": [
        "# initialize SVC\n",
        "svc=SVC() \n",
        "\n",
        "# perform SVC training for data train\n",
        "svc.fit(X_train,y_train)\n",
        "\n",
        "# make predictions from the model on the data test\n",
        "y_pred=svc.predict(X_test)\n",
        "\n",
        "# evaluates model prediction\n",
        "report = classification_report(y_test, y_pred)\n",
        "print(report)"
      ],
      "metadata": {
        "colab": {
          "base_uri": "https://localhost:8080/"
        },
        "id": "wm_2JYBXUW7e",
        "outputId": "4d2e94f0-6a14-4e7f-b85a-7adafba13eab"
      },
      "execution_count": 52,
      "outputs": [
        {
          "output_type": "stream",
          "name": "stdout",
          "text": [
            "              precision    recall  f1-score   support\n",
            "\n",
            "           0       0.57      0.48      0.52       116\n",
            "           1       0.53      0.62      0.57       110\n",
            "\n",
            "    accuracy                           0.55       226\n",
            "   macro avg       0.55      0.55      0.55       226\n",
            "weighted avg       0.55      0.55      0.55       226\n",
            "\n"
          ]
        }
      ]
    },
    {
      "cell_type": "code",
      "source": [
        "print('Model accuracy score: {0:0.4f}'. format(accuracy_score(y_test, y_pred)))"
      ],
      "metadata": {
        "colab": {
          "base_uri": "https://localhost:8080/"
        },
        "id": "q7bKxQ9RUW7f",
        "outputId": "7cf12981-209d-4a94-ec48-d1f686595c7b"
      },
      "execution_count": 53,
      "outputs": [
        {
          "output_type": "stream",
          "name": "stdout",
          "text": [
            "Model accuracy score: 0.5487\n"
          ]
        }
      ]
    },
    {
      "cell_type": "markdown",
      "source": [
        "# Conclusion"
      ],
      "metadata": {
        "id": "6QZZ7WVBUzi1"
      }
    },
    {
      "cell_type": "markdown",
      "source": [
        "Feature selection performed on the dataset can both increase and decrease the evaluation results obtained depending on the method used.The feature selection method that shows improved evaluation results compared to the evaluation results without feature selection is the wrapper method with evaluation results compared to evaluation results without feature selection is the wrapper method with a model performance value of 0.60. While the other two methods, filter method and embedded method, experienced a decrease in performance with the same performance value of 0.55. This could be due to the different feature selection of the three methods used produce different performance results."
      ],
      "metadata": {
        "id": "7JW5FvTTU21A"
      }
    }
  ]
}